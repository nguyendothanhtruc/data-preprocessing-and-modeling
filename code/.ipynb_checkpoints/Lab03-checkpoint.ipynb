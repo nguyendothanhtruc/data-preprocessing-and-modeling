{
 "cells": [
  {
   "cell_type": "markdown",
   "metadata": {
    "Collapsed": "false",
    "id": "CtnHxc20lVGg"
   },
   "source": [
    "# Tiền xử lý và mô hình hóa dữ liệu\n",
    "\n",
    "## Tác giả: Nguyễn Đỗ Thanh Trúc"
   ]
  },
  {
   "cell_type": "markdown",
   "metadata": {
    "Collapsed": "false",
    "id": "vIU2_LomlVGo"
   },
   "source": [
    "---"
   ]
  },
  {
   "cell_type": "markdown",
   "metadata": {
    "id": "DTy3m42ZlVGo"
   },
   "source": [
    "## Môi trường code"
   ]
  },
  {
   "cell_type": "markdown",
   "metadata": {
    "id": "-djgfWxulVGq"
   },
   "source": [
    "Check môi trường code:"
   ]
  },
  {
   "cell_type": "code",
   "execution_count": 1,
   "metadata": {
    "colab": {
     "base_uri": "https://localhost:8080/"
    },
    "id": "ZC2XmNdKlVGr",
    "outputId": "8d26ad08-469e-4916-ae01-ca0bf7f6f1ca"
   },
   "outputs": [
    {
     "data": {
      "text/plain": [
       "('c:\\\\users\\\\ndttr\\\\appdata\\\\local\\\\programs\\\\python\\\\python39\\\\python.exe',\n",
       " '3.9.1 (tags/v3.9.1:1e5d33e, Dec  7 2020, 17:08:21) [MSC v.1927 64 bit (AMD64)]')"
      ]
     },
     "execution_count": 1,
     "metadata": {},
     "output_type": "execute_result"
    }
   ],
   "source": [
    "import sys\n",
    "sys.executable, sys.version"
   ]
  },
  {
   "cell_type": "markdown",
   "metadata": {
    "Collapsed": "false",
    "id": "1V_NYjMxlVGt"
   },
   "source": [
    "---"
   ]
  },
  {
   "cell_type": "markdown",
   "metadata": {
    "Collapsed": "false",
    "id": "ovxfxtNMlVGu"
   },
   "source": [
    "## Import"
   ]
  },
  {
   "cell_type": "code",
   "execution_count": 2,
   "metadata": {
    "Collapsed": "false",
    "id": "zADGZAPMlVGu"
   },
   "outputs": [],
   "source": [
    "import matplotlib.pyplot as plt\n",
    "import seaborn as sns\n",
    "\n",
    "import pandas as pd\n",
    "import numpy as np\n",
    "\n",
    "from sklearn.model_selection import train_test_split, PredefinedSplit, GridSearchCV\n",
    "from sklearn.preprocessing import OneHotEncoder, StandardScaler\n",
    "from sklearn.impute import SimpleImputer\n",
    "from sklearn.base import BaseEstimator, TransformerMixin\n",
    "from sklearn.pipeline import Pipeline, make_pipeline\n",
    "from sklearn.compose import ColumnTransformer, make_column_transformer\n",
    "from sklearn.neural_network import MLPClassifier\n",
    "from sklearn import set_config\n",
    "set_config(display='diagram') #Để trực quan hóa pipeline\n",
    "\n",
    "from sklearn.metrics import accuracy_score\n"
   ]
  },
  {
   "cell_type": "markdown",
   "metadata": {
    "Collapsed": "false",
    "id": "Z0JL7XEFlVGv"
   },
   "source": [
    "---"
   ]
  },
  {
   "cell_type": "markdown",
   "metadata": {
    "Collapsed": "false",
    "id": "bzcfEvRClVGv"
   },
   "source": [
    "## Thu thập dữ liệu\n",
    "\n",
    "Bộ dữ liệu được sử dụng trong bài tập là bộ dữ liệu đã được thu thập sẵn cho việc dự đoán bệnh tim ([Tham khảo](https://archive.ics.uci.edu/ml/datasets/heart+disease))\n",
    "\n",
    "\n",
    "Các file dữ liệu bao gồm: \n",
    "- File \"lab03_train.csv\": tập dữ liệu train\n",
    "- File \"lab03_test.csv\": tập dữ liệu test\n",
    "- File \"description.txt\": mô tả ý nghĩa của các cột"
   ]
  },
  {
   "cell_type": "markdown",
   "metadata": {
    "Collapsed": "false",
    "id": "cDE_MU8VlVGv"
   },
   "source": [
    "---"
   ]
  },
  {
   "cell_type": "markdown",
   "metadata": {
    "Collapsed": "false",
    "id": "qUIzd1oFlVGw"
   },
   "source": [
    "## Khám phá dữ liệu (đủ để có thể xác định câu hỏi)"
   ]
  },
  {
   "cell_type": "code",
   "execution_count": 3,
   "metadata": {
    "Collapsed": "false",
    "colab": {
     "base_uri": "https://localhost:8080/",
     "height": 204
    },
    "id": "sFmVedwNlVGw",
    "outputId": "aeb7c0d4-6a89-41b2-af5c-a5c7336f0a6c"
   },
   "outputs": [
    {
     "data": {
      "text/html": [
       "<div>\n",
       "<style scoped>\n",
       "    .dataframe tbody tr th:only-of-type {\n",
       "        vertical-align: middle;\n",
       "    }\n",
       "\n",
       "    .dataframe tbody tr th {\n",
       "        vertical-align: top;\n",
       "    }\n",
       "\n",
       "    .dataframe thead th {\n",
       "        text-align: right;\n",
       "    }\n",
       "</style>\n",
       "<table border=\"1\" class=\"dataframe\">\n",
       "  <thead>\n",
       "    <tr style=\"text-align: right;\">\n",
       "      <th></th>\n",
       "      <th>age</th>\n",
       "      <th>sex</th>\n",
       "      <th>cp</th>\n",
       "      <th>trestbps</th>\n",
       "      <th>chol</th>\n",
       "      <th>fbs</th>\n",
       "      <th>restecg</th>\n",
       "      <th>thalach</th>\n",
       "      <th>exang</th>\n",
       "      <th>oldpeak</th>\n",
       "      <th>slope</th>\n",
       "      <th>ca</th>\n",
       "      <th>thal</th>\n",
       "      <th>target</th>\n",
       "    </tr>\n",
       "  </thead>\n",
       "  <tbody>\n",
       "    <tr>\n",
       "      <th>0</th>\n",
       "      <td>43.0</td>\n",
       "      <td>NaN</td>\n",
       "      <td>2</td>\n",
       "      <td>122</td>\n",
       "      <td>NaN</td>\n",
       "      <td>0</td>\n",
       "      <td>1</td>\n",
       "      <td>NaN</td>\n",
       "      <td>0</td>\n",
       "      <td>0.2</td>\n",
       "      <td>1.0</td>\n",
       "      <td>0</td>\n",
       "      <td>2</td>\n",
       "      <td>1</td>\n",
       "    </tr>\n",
       "    <tr>\n",
       "      <th>1</th>\n",
       "      <td>66.0</td>\n",
       "      <td>female</td>\n",
       "      <td>2</td>\n",
       "      <td>146</td>\n",
       "      <td>278.0</td>\n",
       "      <td>0</td>\n",
       "      <td>0</td>\n",
       "      <td>152.0</td>\n",
       "      <td>0</td>\n",
       "      <td>0.0</td>\n",
       "      <td>1.0</td>\n",
       "      <td>1</td>\n",
       "      <td>2</td>\n",
       "      <td>1</td>\n",
       "    </tr>\n",
       "    <tr>\n",
       "      <th>2</th>\n",
       "      <td>58.0</td>\n",
       "      <td>male</td>\n",
       "      <td>2</td>\n",
       "      <td>140</td>\n",
       "      <td>211.0</td>\n",
       "      <td>1</td>\n",
       "      <td>0</td>\n",
       "      <td>165.0</td>\n",
       "      <td>0</td>\n",
       "      <td>0.0</td>\n",
       "      <td>2.0</td>\n",
       "      <td>0</td>\n",
       "      <td>2</td>\n",
       "      <td>1</td>\n",
       "    </tr>\n",
       "    <tr>\n",
       "      <th>3</th>\n",
       "      <td>63.0</td>\n",
       "      <td>female</td>\n",
       "      <td>0</td>\n",
       "      <td>124</td>\n",
       "      <td>NaN</td>\n",
       "      <td>0</td>\n",
       "      <td>1</td>\n",
       "      <td>NaN</td>\n",
       "      <td>1</td>\n",
       "      <td>0.0</td>\n",
       "      <td>1.0</td>\n",
       "      <td>0</td>\n",
       "      <td>2</td>\n",
       "      <td>0</td>\n",
       "    </tr>\n",
       "    <tr>\n",
       "      <th>4</th>\n",
       "      <td>57.0</td>\n",
       "      <td>male</td>\n",
       "      <td>1</td>\n",
       "      <td>154</td>\n",
       "      <td>232.0</td>\n",
       "      <td>0</td>\n",
       "      <td>0</td>\n",
       "      <td>164.0</td>\n",
       "      <td>0</td>\n",
       "      <td>0.0</td>\n",
       "      <td>NaN</td>\n",
       "      <td>1</td>\n",
       "      <td>2</td>\n",
       "      <td>0</td>\n",
       "    </tr>\n",
       "  </tbody>\n",
       "</table>\n",
       "</div>"
      ],
      "text/plain": [
       "    age     sex  cp  trestbps   chol  fbs  restecg  thalach  exang  oldpeak  \\\n",
       "0  43.0     NaN   2       122    NaN    0        1      NaN      0      0.2   \n",
       "1  66.0  female   2       146  278.0    0        0    152.0      0      0.0   \n",
       "2  58.0    male   2       140  211.0    1        0    165.0      0      0.0   \n",
       "3  63.0  female   0       124    NaN    0        1      NaN      1      0.0   \n",
       "4  57.0    male   1       154  232.0    0        0    164.0      0      0.0   \n",
       "\n",
       "   slope  ca  thal  target  \n",
       "0    1.0   0     2       1  \n",
       "1    1.0   1     2       1  \n",
       "2    2.0   0     2       1  \n",
       "3    1.0   0     2       0  \n",
       "4    NaN   1     2       0  "
      ]
     },
     "execution_count": 3,
     "metadata": {},
     "output_type": "execute_result"
    }
   ],
   "source": [
    "data_df = pd.read_csv('/data-preprocessing-and-modeling/data/lab03_train.csv') # Cho cột index là cột PassengerId\n",
    "data_df.head()"
   ]
  },
  {
   "cell_type": "code",
   "execution_count": 4,
   "metadata": {
    "colab": {
     "base_uri": "https://localhost:8080/"
    },
    "id": "PKu3RUoRaSS7",
    "outputId": "29a78c5c-6aec-45d4-cc4b-195d246d8915"
   },
   "outputs": [
    {
     "name": "stdout",
     "output_type": "stream",
     "text": [
      "<class 'pandas.core.frame.DataFrame'>\n",
      "RangeIndex: 242 entries, 0 to 241\n",
      "Data columns (total 14 columns):\n",
      " #   Column    Non-Null Count  Dtype  \n",
      "---  ------    --------------  -----  \n",
      " 0   age       221 non-null    float64\n",
      " 1   sex       196 non-null    object \n",
      " 2   cp        242 non-null    int64  \n",
      " 3   trestbps  242 non-null    int64  \n",
      " 4   chol      207 non-null    float64\n",
      " 5   fbs       242 non-null    int64  \n",
      " 6   restecg   242 non-null    int64  \n",
      " 7   thalach   70 non-null     float64\n",
      " 8   exang     242 non-null    int64  \n",
      " 9   oldpeak   206 non-null    float64\n",
      " 10  slope     216 non-null    float64\n",
      " 11  ca        242 non-null    int64  \n",
      " 12  thal      242 non-null    int64  \n",
      " 13  target    242 non-null    int64  \n",
      "dtypes: float64(5), int64(8), object(1)\n",
      "memory usage: 26.6+ KB\n"
     ]
    }
   ],
   "source": [
    "data_df.info()"
   ]
  },
  {
   "cell_type": "markdown",
   "metadata": {
    "id": "4OAxtr7XlVGw"
   },
   "source": [
    "### Kích thước dữ liệu"
   ]
  },
  {
   "cell_type": "code",
   "execution_count": 5,
   "metadata": {
    "colab": {
     "base_uri": "https://localhost:8080/"
    },
    "id": "zlZ1c7EflVGx",
    "outputId": "469194cd-ebcc-433b-e840-02940b6dda68"
   },
   "outputs": [
    {
     "data": {
      "text/plain": [
       "(242, 14)"
      ]
     },
     "execution_count": 5,
     "metadata": {},
     "output_type": "execute_result"
    }
   ],
   "source": [
    "data_df.shape"
   ]
  },
  {
   "cell_type": "markdown",
   "metadata": {
    "id": "a4Um_o5blVGx"
   },
   "source": [
    "### Mỗi dòng có ý nghĩa gì? Có vấn đề các dòng có ý nghĩa khác nhau không?"
   ]
  },
  {
   "cell_type": "markdown",
   "metadata": {
    "id": "ql5VsnYVlVGx"
   },
   "source": [
    "Quan sát sơ bộ dữ liệu ta thấy mỗi dòng chứa thông tin của một bệnh nhân, và có vẻ không có vấn đề các dòng có ý nghĩa khác nhau."
   ]
  },
  {
   "cell_type": "markdown",
   "metadata": {
    "id": "Ih5D0w0WlVGy"
   },
   "source": [
    "### Dữ liệu có các dòng bị lặp không?"
   ]
  },
  {
   "cell_type": "code",
   "execution_count": 6,
   "metadata": {
    "colab": {
     "base_uri": "https://localhost:8080/"
    },
    "id": "l8gMMMlmlVGy",
    "outputId": "179f55c1-d3b9-4a91-fa2f-43080fd2b760"
   },
   "outputs": [
    {
     "data": {
      "text/plain": [
       "0"
      ]
     },
     "execution_count": 6,
     "metadata": {},
     "output_type": "execute_result"
    }
   ],
   "source": [
    "# Số dòng bị lặp\n",
    "data_df.index.duplicated().sum()"
   ]
  },
  {
   "cell_type": "markdown",
   "metadata": {
    "id": "vLl5KluIlVGy"
   },
   "source": [
    "### Ý nghĩa cột dữ liệu"
   ]
  },
  {
   "cell_type": "markdown",
   "metadata": {
    "id": "KW2RYNgwlVGy"
   },
   "source": [
    "Xem file \"description.txt\"."
   ]
  },
  {
   "cell_type": "code",
   "execution_count": 7,
   "metadata": {
    "colab": {
     "base_uri": "https://localhost:8080/"
    },
    "id": "scpKAvIRlVGz",
    "outputId": "2f15aff4-8041-44c3-81d2-528e2e0e3473"
   },
   "outputs": [
    {
     "name": "stdout",
     "output_type": "stream",
     "text": [
      "1) age:\t\tage in years\n",
      "2) sex:\t\tsex (male; female)\n",
      "3) cp: \t\tchest pain type\n",
      "4) trestbps: \tresting blood pressure\n",
      "5) chol: \tserum cholestoral in mg/dl\n",
      "6) fbs: \tfasting blood sugar > 120 mg/dl\n",
      "7) restecg: \tresting electrocardiographic results (values 0,1,2)\n",
      "8) thalach: \tmaximum heart rate achieved\n",
      "9) exang: \texercise induced angina\n",
      "10) oldpeak: \t= ST depression induced by exercise relative to rest\n",
      "11) slope: \tthe slope of the peak exercise ST segment\n",
      "12) ca: \tnumber of major vessels (0-3) colored by flourosopy\n",
      "13) thal: \tdisplays the thalassemia\n"
     ]
    }
   ],
   "source": [
    "with open('/data-preprocessing-and-modeling/data/description.txt', 'r') as f:\n",
    "    print(f.read())"
   ]
  },
  {
   "cell_type": "markdown",
   "metadata": {
    "id": "k7gIF118lVGz"
   },
   "source": [
    "---"
   ]
  },
  {
   "cell_type": "markdown",
   "metadata": {
    "id": "LujfMGvIlVG0"
   },
   "source": [
    "---"
   ]
  },
  {
   "cell_type": "markdown",
   "metadata": {
    "id": "jx3A7ZIglVG0"
   },
   "source": [
    "## Đưa ra câu hỏi cần trả lời"
   ]
  },
  {
   "cell_type": "markdown",
   "metadata": {
    "id": "HUhBEvzulVG0"
   },
   "source": [
    "Quan trọng nhất ở bước này là ta phải xác định đâu là ouput và input. Về các cột input, nếu được thì ta cố gắng xác định những cột nào sẽ không dùng đến dựa vào ý nghĩa của các cột và sẽ bỏ luôn các cột này để đơn giản hóa cho các bước lúc sau (nhất là trong trường hợp dữ liệu có nhiều cột); với những cột mà không chắc chắn là nên bỏ hay nên giữ thì tạm cứ để đó, và ta sẽ làm ở bước tiền xử lý lúc sau."
   ]
  },
  {
   "cell_type": "markdown",
   "metadata": {
    "Collapsed": "false",
    "id": "WlhcRL0YlVG1"
   },
   "source": [
    "---"
   ]
  },
  {
   "cell_type": "markdown",
   "metadata": {
    "Collapsed": "false",
    "id": "dxHaKceolVG1"
   },
   "source": [
    "## Khám phá dữ liệu (để biết cách tách các tập)\n",
    "Để biết cách tách các tập thì ta cần khám phá thêm cột output một ít:\n",
    "- Cột này hiện có kiểu dữ liệu là gì? Trong bài toán hồi qui thì cột output bắt buộc phải có dạng số; nếu hiện chưa có dạng số (ví dụ, số nhưng được lưu dưới dạng chuỗi) thì ta cần chuyển sang dạng số rồi mới tách các tập.\n",
    "- Cột này có giá trị thiếu không? Nếu có giá trị thiếu thì ta sẽ bỏ các dòng mà output có giá trị thiếu rồi mới tách các tập.\n",
    "- Nếu cột này có dạng categorical (phân lớp) thì tỉ lệ các lớp như thế nào? Nếu tỉ lệ các lớp bị chênh lệch nhau quá nhiều thì có thể ta sẽ cần quay lại bước thu thập dữ liệu và thu thập thêm để cho tỉ lệ các lớp không bị chênh lệnh quá nhiều (hoặc khi đánh giá ta cần có một độ đo phù hợp)."
   ]
  },
  {
   "cell_type": "code",
   "execution_count": 8,
   "metadata": {
    "colab": {
     "base_uri": "https://localhost:8080/"
    },
    "id": "Q2ksfSf-lVG1",
    "outputId": "e0d35b1a-32af-4a71-991f-04ade7b4c250"
   },
   "outputs": [
    {
     "data": {
      "text/plain": [
       "dtype('int64')"
      ]
     },
     "execution_count": 8,
     "metadata": {},
     "output_type": "execute_result"
    }
   ],
   "source": [
    "# Cột output hiện có kiểu dữ liệu gì?\n",
    "data_df['target'].dtype"
   ]
  },
  {
   "cell_type": "code",
   "execution_count": 9,
   "metadata": {
    "colab": {
     "base_uri": "https://localhost:8080/"
    },
    "id": "BcQnoMbxlVG1",
    "outputId": "ee975ddf-b2c0-4b39-875c-d169a8d71192"
   },
   "outputs": [
    {
     "data": {
      "text/plain": [
       "0"
      ]
     },
     "execution_count": 9,
     "metadata": {},
     "output_type": "execute_result"
    }
   ],
   "source": [
    "# Cột output có bao nhiêu giá trị thiếu?\n",
    "data_df['target'].isna().sum()"
   ]
  },
  {
   "cell_type": "code",
   "execution_count": 10,
   "metadata": {
    "colab": {
     "base_uri": "https://localhost:8080/",
     "height": 313
    },
    "id": "i758Nmi0lVG2",
    "outputId": "33a97560-dd09-4bd4-9f03-d3f025c7aa48"
   },
   "outputs": [
    {
     "data": {
      "text/plain": [
       "1    54.132231\n",
       "0    45.867769\n",
       "Name: target, dtype: float64"
      ]
     },
     "execution_count": 10,
     "metadata": {},
     "output_type": "execute_result"
    },
    {
     "data": {
      "image/png": "[encoded data removed]",
      "text/plain": [
       "<Figure size 432x288 with 1 Axes>"
      ]
     },
     "metadata": {
      "needs_background": "light"
     },
     "output_type": "display_data"
    }
   ],
   "source": [
    "# Tỉ lệ các lớp trong cột output?\n",
    "data_df.target.value_counts(normalize=True).plot(kind=\"bar\", color=[\"red\", \"blue\"])\n",
    "data_df['target'].value_counts(normalize=True) * 100"
   ]
  },
  {
   "cell_type": "markdown",
   "metadata": {
    "id": "Us43QXkvlVG2"
   },
   "source": [
    "Nhận xét:\n",
    "* Tỉ lệ giữa các lớp cũng khá cân bằng, vậy thì ta sẽ có thể áp dụng các kỹ thuật thông thường để giải quyết bài toán này"
   ]
  },
  {
   "cell_type": "markdown",
   "metadata": {
    "id": "NgcvfyEPlVG2"
   },
   "source": [
    "---"
   ]
  },
  {
   "cell_type": "markdown",
   "metadata": {
    "id": "oQXS782plVG3",
    "tags": []
   },
   "source": [
    "## Tiền xử lý (tách các tập)"
   ]
  },
  {
   "cell_type": "markdown",
   "metadata": {
    "id": "VOFzqJU_lVG3"
   },
   "source": [
    "Bây giờ ta sẽ thực hiện bước tiền xử lý là tách tập validation"
   ]
  },
  {
   "cell_type": "code",
   "execution_count": 11,
   "metadata": {
    "Collapsed": "false",
    "id": "GOxpBQ2hlVG3"
   },
   "outputs": [],
   "source": [
    "# Tách X và y\n",
    "y_sr = data_df[\"target\"] \n",
    "X_df = data_df.drop(\"target\", axis=1)"
   ]
  },
  {
   "cell_type": "code",
   "execution_count": 12,
   "metadata": {
    "Collapsed": "false",
    "id": "tBKNBvtPlVG3"
   },
   "outputs": [],
   "source": [
    "# Tách tập huấn luyện và tập validation theo tỉ lệ 80%:20%\n",
    "train_X_df, val_X_df, train_y_sr, val_y_sr = \\\n",
    "                              train_test_split(X_df, y_sr, \n",
    "                                               test_size=0.2, \n",
    "                                               stratify=y_sr, \n",
    "                                               random_state=0)"
   ]
  },
  {
   "cell_type": "code",
   "execution_count": 13,
   "metadata": {
    "colab": {
     "base_uri": "https://localhost:8080/"
    },
    "id": "rxUbZC8IlVG3",
    "outputId": "1a713527-f08c-475d-d0df-48cd8cde94d3"
   },
   "outputs": [
    {
     "data": {
      "text/plain": [
       "(193, 13)"
      ]
     },
     "execution_count": 13,
     "metadata": {},
     "output_type": "execute_result"
    }
   ],
   "source": [
    "train_X_df.shape"
   ]
  },
  {
   "cell_type": "code",
   "execution_count": 14,
   "metadata": {
    "colab": {
     "base_uri": "https://localhost:8080/"
    },
    "id": "Y6QO5DEwlVG4",
    "outputId": "971dfdc1-a2ff-471b-8938-9195baa65fff"
   },
   "outputs": [
    {
     "data": {
      "text/plain": [
       "(193,)"
      ]
     },
     "execution_count": 14,
     "metadata": {},
     "output_type": "execute_result"
    }
   ],
   "source": [
    "train_y_sr.shape"
   ]
  },
  {
   "cell_type": "code",
   "execution_count": 15,
   "metadata": {
    "colab": {
     "base_uri": "https://localhost:8080/"
    },
    "id": "tMzu6_kIlVG4",
    "outputId": "ee2cba7c-081b-4ff1-f65f-51e76d76fcf7"
   },
   "outputs": [
    {
     "data": {
      "text/plain": [
       "(49, 13)"
      ]
     },
     "execution_count": 15,
     "metadata": {},
     "output_type": "execute_result"
    }
   ],
   "source": [
    "val_X_df.shape"
   ]
  },
  {
   "cell_type": "code",
   "execution_count": 16,
   "metadata": {
    "colab": {
     "base_uri": "https://localhost:8080/"
    },
    "id": "as6Tz8telVG4",
    "outputId": "32486dfa-2f8d-46a5-cfb0-e92a80fb12ac"
   },
   "outputs": [
    {
     "data": {
      "text/plain": [
       "(49,)"
      ]
     },
     "execution_count": 16,
     "metadata": {},
     "output_type": "execute_result"
    }
   ],
   "source": [
    "val_y_sr.shape"
   ]
  },
  {
   "cell_type": "code",
   "execution_count": 17,
   "metadata": {
    "Collapsed": "false",
    "colab": {
     "base_uri": "https://localhost:8080/"
    },
    "id": "mEJirtzJlVG4",
    "outputId": "42a59476-02d3-4b29-f3d3-8aae78dd009e"
   },
   "outputs": [
    {
     "data": {
      "text/plain": [
       "Int64Index([214, 160, 23, 57, 206], dtype='int64')"
      ]
     },
     "execution_count": 17,
     "metadata": {},
     "output_type": "execute_result"
    }
   ],
   "source": [
    "train_X_df.head().index"
   ]
  },
  {
   "cell_type": "markdown",
   "metadata": {
    "Collapsed": "false",
    "id": "b9EXZJOalVG5"
   },
   "source": [
    "---"
   ]
  },
  {
   "cell_type": "markdown",
   "metadata": {
    "Collapsed": "false",
    "id": "83Q7v7BYlVG5"
   },
   "source": [
    "## Khám phá dữ liệu trên tập train"
   ]
  },
  {
   "cell_type": "markdown",
   "metadata": {
    "id": "ZEM0lFBHlVG5"
   },
   "source": [
    "Sau khi đã tách ra các tập thì ta có thể thoải mái khám phá trên tập huấn luyện mà không lo sẽ làm kết quả trên tập validation và tập test bị mất đi sự khách quan."
   ]
  },
  {
   "cell_type": "markdown",
   "metadata": {
    "id": "LY1HXxl3lVG5"
   },
   "source": [
    "### Mỗi cột input hiện đang có kiểu dữ liệu gì? Có cột nào có kiểu dữ liệu chưa phù hợp để có thể xử lý tiếp không?"
   ]
  },
  {
   "cell_type": "code",
   "execution_count": 18,
   "metadata": {
    "colab": {
     "base_uri": "https://localhost:8080/"
    },
    "id": "fGmgPdoulVG5",
    "outputId": "39de2123-2622-449e-9882-c71b594c803d"
   },
   "outputs": [
    {
     "data": {
      "text/plain": [
       "age         float64\n",
       "sex          object\n",
       "cp            int64\n",
       "trestbps      int64\n",
       "chol        float64\n",
       "fbs           int64\n",
       "restecg       int64\n",
       "thalach     float64\n",
       "exang         int64\n",
       "oldpeak     float64\n",
       "slope       float64\n",
       "ca            int64\n",
       "thal          int64\n",
       "dtype: object"
      ]
     },
     "execution_count": 18,
     "metadata": {},
     "output_type": "execute_result"
    }
   ],
   "source": [
    "train_X_df.dtypes"
   ]
  },
  {
   "cell_type": "markdown",
   "metadata": {
    "id": "Kp_SG9hwlVG6"
   },
   "source": [
    "Có vẻ các cột đều có kiểu dữ liệu phù hợp. "
   ]
  },
  {
   "cell_type": "markdown",
   "metadata": {
    "id": "QtmDTZWUlVG6"
   },
   "source": [
    "### Với mỗi cột input có kiểu dữ liệu dạng số, các giá trị được phân bố như thế nào?"
   ]
  },
  {
   "cell_type": "code",
   "execution_count": 19,
   "metadata": {
    "colab": {
     "base_uri": "https://localhost:8080/"
    },
    "id": "04n9XUeIlVG6",
    "outputId": "c72bd509-47fa-4c51-e7fe-634174a99eb5"
   },
   "outputs": [
    {
     "data": {
      "text/plain": [
       "age         float64\n",
       "cp            int64\n",
       "trestbps      int64\n",
       "chol        float64\n",
       "fbs           int64\n",
       "restecg       int64\n",
       "thalach     float64\n",
       "exang         int64\n",
       "oldpeak     float64\n",
       "slope       float64\n",
       "ca            int64\n",
       "thal          int64\n",
       "dtype: object"
      ]
     },
     "execution_count": 19,
     "metadata": {},
     "output_type": "execute_result"
    }
   ],
   "source": [
    "train_X_df.dtypes[train_X_df.dtypes != object]"
   ]
  },
  {
   "cell_type": "code",
   "execution_count": 20,
   "metadata": {
    "colab": {
     "base_uri": "https://localhost:8080/",
     "height": 297
    },
    "id": "UBpuFrXrcoVE",
    "outputId": "75d5a513-2840-4f6a-a6da-182c635879e1"
   },
   "outputs": [
    {
     "data": {
      "text/html": [
       "<div>\n",
       "<style scoped>\n",
       "    .dataframe tbody tr th:only-of-type {\n",
       "        vertical-align: middle;\n",
       "    }\n",
       "\n",
       "    .dataframe tbody tr th {\n",
       "        vertical-align: top;\n",
       "    }\n",
       "\n",
       "    .dataframe thead th {\n",
       "        text-align: right;\n",
       "    }\n",
       "</style>\n",
       "<table border=\"1\" class=\"dataframe\">\n",
       "  <thead>\n",
       "    <tr style=\"text-align: right;\">\n",
       "      <th></th>\n",
       "      <th>age</th>\n",
       "      <th>cp</th>\n",
       "      <th>trestbps</th>\n",
       "      <th>chol</th>\n",
       "      <th>fbs</th>\n",
       "      <th>restecg</th>\n",
       "      <th>thalach</th>\n",
       "      <th>exang</th>\n",
       "      <th>oldpeak</th>\n",
       "      <th>slope</th>\n",
       "      <th>ca</th>\n",
       "      <th>thal</th>\n",
       "    </tr>\n",
       "  </thead>\n",
       "  <tbody>\n",
       "    <tr>\n",
       "      <th>count</th>\n",
       "      <td>174.00</td>\n",
       "      <td>193.00</td>\n",
       "      <td>193.00</td>\n",
       "      <td>164.00</td>\n",
       "      <td>193.00</td>\n",
       "      <td>193.00</td>\n",
       "      <td>55.00</td>\n",
       "      <td>193.00</td>\n",
       "      <td>164.00</td>\n",
       "      <td>171.00</td>\n",
       "      <td>193.00</td>\n",
       "      <td>193.00</td>\n",
       "    </tr>\n",
       "    <tr>\n",
       "      <th>mean</th>\n",
       "      <td>55.18</td>\n",
       "      <td>1.15</td>\n",
       "      <td>131.85</td>\n",
       "      <td>245.91</td>\n",
       "      <td>0.14</td>\n",
       "      <td>0.55</td>\n",
       "      <td>147.04</td>\n",
       "      <td>0.31</td>\n",
       "      <td>1.06</td>\n",
       "      <td>1.45</td>\n",
       "      <td>0.70</td>\n",
       "      <td>2.31</td>\n",
       "    </tr>\n",
       "    <tr>\n",
       "      <th>std</th>\n",
       "      <td>9.08</td>\n",
       "      <td>1.64</td>\n",
       "      <td>16.51</td>\n",
       "      <td>50.38</td>\n",
       "      <td>0.35</td>\n",
       "      <td>0.54</td>\n",
       "      <td>23.36</td>\n",
       "      <td>0.46</td>\n",
       "      <td>1.22</td>\n",
       "      <td>0.61</td>\n",
       "      <td>1.00</td>\n",
       "      <td>0.62</td>\n",
       "    </tr>\n",
       "    <tr>\n",
       "      <th>min</th>\n",
       "      <td>29.00</td>\n",
       "      <td>0.00</td>\n",
       "      <td>100.00</td>\n",
       "      <td>131.00</td>\n",
       "      <td>0.00</td>\n",
       "      <td>0.00</td>\n",
       "      <td>71.00</td>\n",
       "      <td>0.00</td>\n",
       "      <td>0.00</td>\n",
       "      <td>0.00</td>\n",
       "      <td>0.00</td>\n",
       "      <td>0.00</td>\n",
       "    </tr>\n",
       "    <tr>\n",
       "      <th>25%</th>\n",
       "      <td>48.00</td>\n",
       "      <td>0.00</td>\n",
       "      <td>120.00</td>\n",
       "      <td>211.75</td>\n",
       "      <td>0.00</td>\n",
       "      <td>0.00</td>\n",
       "      <td>131.50</td>\n",
       "      <td>0.00</td>\n",
       "      <td>0.00</td>\n",
       "      <td>1.00</td>\n",
       "      <td>0.00</td>\n",
       "      <td>2.00</td>\n",
       "    </tr>\n",
       "    <tr>\n",
       "      <th>50%</th>\n",
       "      <td>57.00</td>\n",
       "      <td>1.00</td>\n",
       "      <td>130.00</td>\n",
       "      <td>239.00</td>\n",
       "      <td>0.00</td>\n",
       "      <td>1.00</td>\n",
       "      <td>152.00</td>\n",
       "      <td>0.00</td>\n",
       "      <td>0.70</td>\n",
       "      <td>2.00</td>\n",
       "      <td>0.00</td>\n",
       "      <td>2.00</td>\n",
       "    </tr>\n",
       "    <tr>\n",
       "      <th>75%</th>\n",
       "      <td>62.00</td>\n",
       "      <td>2.00</td>\n",
       "      <td>140.00</td>\n",
       "      <td>275.25</td>\n",
       "      <td>0.00</td>\n",
       "      <td>1.00</td>\n",
       "      <td>162.50</td>\n",
       "      <td>1.00</td>\n",
       "      <td>1.80</td>\n",
       "      <td>2.00</td>\n",
       "      <td>1.00</td>\n",
       "      <td>3.00</td>\n",
       "    </tr>\n",
       "    <tr>\n",
       "      <th>max</th>\n",
       "      <td>76.00</td>\n",
       "      <td>9.00</td>\n",
       "      <td>180.00</td>\n",
       "      <td>417.00</td>\n",
       "      <td>1.00</td>\n",
       "      <td>2.00</td>\n",
       "      <td>182.00</td>\n",
       "      <td>1.00</td>\n",
       "      <td>6.20</td>\n",
       "      <td>2.00</td>\n",
       "      <td>4.00</td>\n",
       "      <td>3.00</td>\n",
       "    </tr>\n",
       "  </tbody>\n",
       "</table>\n",
       "</div>"
      ],
      "text/plain": [
       "         age     cp  trestbps   chol    fbs  restecg  thalach  exang  oldpeak  \\\n",
       "count 174.00 193.00    193.00 164.00 193.00   193.00    55.00 193.00   164.00   \n",
       "mean   55.18   1.15    131.85 245.91   0.14     0.55   147.04   0.31     1.06   \n",
       "std     9.08   1.64     16.51  50.38   0.35     0.54    23.36   0.46     1.22   \n",
       "min    29.00   0.00    100.00 131.00   0.00     0.00    71.00   0.00     0.00   \n",
       "25%    48.00   0.00    120.00 211.75   0.00     0.00   131.50   0.00     0.00   \n",
       "50%    57.00   1.00    130.00 239.00   0.00     1.00   152.00   0.00     0.70   \n",
       "75%    62.00   2.00    140.00 275.25   0.00     1.00   162.50   1.00     1.80   \n",
       "max    76.00   9.00    180.00 417.00   1.00     2.00   182.00   1.00     6.20   \n",
       "\n",
       "       slope     ca   thal  \n",
       "count 171.00 193.00 193.00  \n",
       "mean    1.45   0.70   2.31  \n",
       "std     0.61   1.00   0.62  \n",
       "min     0.00   0.00   0.00  \n",
       "25%     1.00   0.00   2.00  \n",
       "50%     2.00   0.00   2.00  \n",
       "75%     2.00   1.00   3.00  \n",
       "max     2.00   4.00   3.00  "
      ]
     },
     "execution_count": 20,
     "metadata": {},
     "output_type": "execute_result"
    }
   ],
   "source": [
    "pd.set_option(\"display.float\", \"{:.2f}\".format)\n",
    "train_X_df.describe()"
   ]
  },
  {
   "cell_type": "markdown",
   "metadata": {
    "Collapsed": "false",
    "id": "L12O7thLlVG8"
   },
   "source": [
    "---"
   ]
  },
  {
   "cell_type": "markdown",
   "metadata": {
    "id": "zbGOiPEglVG8"
   },
   "source": [
    "## Tiền xử lý (Tập training)"
   ]
  },
  {
   "cell_type": "markdown",
   "metadata": {
    "Collapsed": "false",
    "id": "3EvZW1chlVG8"
   },
   "source": [
    "Đầu tiên, ta sẽ thêm và bỏ một số cột như sau: \n",
    "- Với cột `cp`, ta sẽ tiến hành rút trích ra cột `cp_reduced` tương ứng. Khi khám phá, ta thấy cột `cp` có khá nhiều giá trị khác nhau trong tập train (trong tập train có 10 giá trị, trong tập test có thể nhiều hơn), trong đó có các giá trị chỉ xuất hiện một hoặc với số lần rất ít; nếu ta để nguyên thì khi chuyển sang dạng số bằng phương pháp one-hot encoding sẽ có nhiều cột &#8594; dễ bị overfit. \n",
    "<br> Ta sẽ xử lý vấn đề này như sau: chỉ lấy `num_top_cp_values` tức giá trị xuất hiện nhiều nhất, các giá trị còn lại sẽ được thay thế bằng giá trị `-1` (Khi mô hình hóa, ta sẽ mã hóa cột này dưới dạng one-hot nên chọn giá trị nào không nằm trong `top_cp_values` để thay thế cũng được, nhưng mình sẽ thống nhất chọn giá trị `-1`). Lúc sau, ta sẽ thí nghiệm để chọn ra giá trị `num_top_cp_values` phù hợp. Sau khi xử lý cột `cp_reduced` như vừa nói, ta thêm cột này vào dataframe và bỏ cột `cp` đi.\n",
    "- Bỏ cột `thalach` vì cột này có quá nhiều giá thiếu.\n",
    "\n",
    "\n",
    "Class `ColAdderDropper` ở dưới đây sẽ thực hiện các bước ở trên. Vì trong các bước ở trên, có bước ta cần tính toán các giá trị từ tập huấn luyện (`num_top_cp_values` giá trị của cột \"cp_reduced\" mà xuất hiện nhiều nhất) và dùng các giá trị này để \"transform\" tập validation / test nên ta phải tự định nghĩa một class theo dạng \"transformer\" của Sklearn (để lúc sau có thể dùng pipeline của Sklearn) và trong đó ta phải tự định nghĩa phương thức `fit` và `transform`. \n",
    "Lưu ý: phương thức `fit` chỉ được dùng trên tập huấn luyện, còn phương thức `transform` (sau khi đã `fit`) có thể được dùng cho bất kỳ tập nào.\n",
    "\n",
    "Sau khi dùng phương thức `fit`, các giá trị của cột `cp` cùng với số lần xuất hiện sẽ được lưu vào thuộc tính `self.cp_counts_` (khi \"transform\" thì không cần dùng đến thông tin này, nhưng có thể bạn sẽ muốn xem thông tin này), và `num_top_cp_values` giá trị xuất hiện nhiều nhất sẽ được lưu vào `self.top_cp_values_` (`num_top_cp_values` là siêu tham số mà phải chỉ định khi tạo ra một đối tượng thuộc class này). \n",
    "\n",
    "Ngoài ra, class `ColAdderDropper` được kế thừa từ 2 class của Sklearn là `BaseEstimator` và `TransformerMixin`. Việc kế thừa này giúp class của ta tự động có các phương thức như `set_params`, `get_params`, `fit_transform` (nếu không thì ta sẽ phải tự định nghĩa các phương thức này). Nếu muốn tìm hiểu thêm về cách viết class theo dạng của Sklearn, đọc [ở đây](https://scikit-learn.org/stable/developers/develop.html?highlight=baseestimator)."
   ]
  },
  {
   "cell_type": "code",
   "execution_count": 21,
   "metadata": {
    "Collapsed": "false",
    "deletable": false,
    "id": "v5VbKC_ilVG8",
    "nbgrader": {
     "cell_type": "code",
     "checksum": "9bbd42fec4a1b01ae8a8a58dc28e06d2",
     "grade": false,
     "grade_id": "cell-c2cb62acb65582f6",
     "locked": false,
     "schema_version": 3,
     "solution": true,
     "task": false
    }
   },
   "outputs": [],
   "source": [
    "class ColAdderDropper(BaseEstimator, TransformerMixin):\n",
    "    def __init__(self, num_top_cp_values=3):\n",
    "        self.num_top_cp_values = num_top_cp_values\n",
    "        \n",
    "    def fit(self, X_df, y=None):\n",
    "        self.cp_counts_ = X_df['cp'].value_counts()\n",
    "        cps = list(self.cp_counts_.index)\n",
    "        self.top_cp_values_ = cps[:max(1, min(self.num_top_cp_values, len(cps)))]\n",
    "        return self\n",
    "    \n",
    "    def transform(self, X_df, y=None):\n",
    "        out_df = X_df.copy()\n",
    "        out_df.drop(\"thalach\", inplace = True, axis = 1)\n",
    "        out_df.rename({'cp': 'cp_reduced'}, inplace=True, axis=1)\n",
    "        \n",
    "        #Find the index of row having value not in top_cp_values_\n",
    "        list_index = out_df[~out_df[\"cp_reduced\"].isin(self.top_cp_values_)].index.tolist()\n",
    "    \n",
    "        #Fill all value to -1\n",
    "        out_df.at[list_index,\"cp_reduced\"] = -1 \n",
    "    \n",
    "        out_df = out_df.sort_index(axis=1)\n",
    "        \n",
    "        return out_df"
   ]
  },
  {
   "cell_type": "code",
   "execution_count": 22,
   "metadata": {
    "colab": {
     "base_uri": "https://localhost:8080/"
    },
    "id": "-CYn5spSlVG9",
    "outputId": "5557eda9-c09e-4fe4-e236-3925d500e644"
   },
   "outputs": [
    {
     "name": "stdout",
     "output_type": "stream",
     "text": [
      "0    117\n",
      "2     69\n",
      "1     36\n",
      "3      5\n",
      "6      4\n",
      "9      3\n",
      "4      3\n",
      "7      2\n",
      "5      2\n",
      "8      1\n",
      "Name: cp, dtype: int64\n",
      "\n",
      " Columns have top values: [0, 2, 1]\n"
     ]
    }
   ],
   "source": [
    "# TEST FIT METHOD\n",
    "col_adderdropper = ColAdderDropper(num_top_cp_values=3)\n",
    "col_adderdropper.fit(data_df)\n",
    "print(col_adderdropper.cp_counts_)\n",
    "print()\n",
    "print(f\" Columns have top values: {col_adderdropper.top_cp_values_}\")"
   ]
  },
  {
   "cell_type": "code",
   "execution_count": 23,
   "metadata": {
    "Collapsed": "false",
    "colab": {
     "base_uri": "https://localhost:8080/",
     "height": 204
    },
    "deletable": false,
    "editable": false,
    "id": "ujHTyrGJlVG9",
    "nbgrader": {
     "cell_type": "code",
     "checksum": "258f156033739a9ad92fb68786c9f38b",
     "grade": true,
     "grade_id": "cell-7a54f3df0d0a2556",
     "locked": true,
     "points": 1,
     "schema_version": 3,
     "solution": false,
     "task": false
    },
    "outputId": "83e513c8-db6d-4a49-d251-bc2ebde967d6"
   },
   "outputs": [
    {
     "data": {
      "text/html": [
       "<div>\n",
       "<style scoped>\n",
       "    .dataframe tbody tr th:only-of-type {\n",
       "        vertical-align: middle;\n",
       "    }\n",
       "\n",
       "    .dataframe tbody tr th {\n",
       "        vertical-align: top;\n",
       "    }\n",
       "\n",
       "    .dataframe thead th {\n",
       "        text-align: right;\n",
       "    }\n",
       "</style>\n",
       "<table border=\"1\" class=\"dataframe\">\n",
       "  <thead>\n",
       "    <tr style=\"text-align: right;\">\n",
       "      <th></th>\n",
       "      <th>age</th>\n",
       "      <th>ca</th>\n",
       "      <th>chol</th>\n",
       "      <th>cp_reduced</th>\n",
       "      <th>exang</th>\n",
       "      <th>fbs</th>\n",
       "      <th>oldpeak</th>\n",
       "      <th>restecg</th>\n",
       "      <th>sex</th>\n",
       "      <th>slope</th>\n",
       "      <th>thal</th>\n",
       "      <th>trestbps</th>\n",
       "    </tr>\n",
       "  </thead>\n",
       "  <tbody>\n",
       "    <tr>\n",
       "      <th>214</th>\n",
       "      <td>64.00</td>\n",
       "      <td>0</td>\n",
       "      <td>335.00</td>\n",
       "      <td>2</td>\n",
       "      <td>0</td>\n",
       "      <td>0</td>\n",
       "      <td>0.00</td>\n",
       "      <td>1</td>\n",
       "      <td>NaN</td>\n",
       "      <td>2.00</td>\n",
       "      <td>2</td>\n",
       "      <td>140</td>\n",
       "    </tr>\n",
       "    <tr>\n",
       "      <th>160</th>\n",
       "      <td>49.00</td>\n",
       "      <td>0</td>\n",
       "      <td>271.00</td>\n",
       "      <td>1</td>\n",
       "      <td>0</td>\n",
       "      <td>0</td>\n",
       "      <td>0.00</td>\n",
       "      <td>1</td>\n",
       "      <td>female</td>\n",
       "      <td>NaN</td>\n",
       "      <td>2</td>\n",
       "      <td>134</td>\n",
       "    </tr>\n",
       "    <tr>\n",
       "      <th>23</th>\n",
       "      <td>59.00</td>\n",
       "      <td>1</td>\n",
       "      <td>239.00</td>\n",
       "      <td>0</td>\n",
       "      <td>1</td>\n",
       "      <td>0</td>\n",
       "      <td>NaN</td>\n",
       "      <td>0</td>\n",
       "      <td>male</td>\n",
       "      <td>1.00</td>\n",
       "      <td>3</td>\n",
       "      <td>110</td>\n",
       "    </tr>\n",
       "    <tr>\n",
       "      <th>57</th>\n",
       "      <td>60.00</td>\n",
       "      <td>0</td>\n",
       "      <td>NaN</td>\n",
       "      <td>2</td>\n",
       "      <td>0</td>\n",
       "      <td>1</td>\n",
       "      <td>0.00</td>\n",
       "      <td>1</td>\n",
       "      <td>female</td>\n",
       "      <td>2.00</td>\n",
       "      <td>2</td>\n",
       "      <td>120</td>\n",
       "    </tr>\n",
       "    <tr>\n",
       "      <th>206</th>\n",
       "      <td>65.00</td>\n",
       "      <td>0</td>\n",
       "      <td>177.00</td>\n",
       "      <td>0</td>\n",
       "      <td>0</td>\n",
       "      <td>0</td>\n",
       "      <td>0.40</td>\n",
       "      <td>1</td>\n",
       "      <td>male</td>\n",
       "      <td>2.00</td>\n",
       "      <td>3</td>\n",
       "      <td>120</td>\n",
       "    </tr>\n",
       "  </tbody>\n",
       "</table>\n",
       "</div>"
      ],
      "text/plain": [
       "      age  ca   chol  cp_reduced  exang  fbs  oldpeak  restecg     sex  slope  \\\n",
       "214 64.00   0 335.00           2      0    0     0.00        1     NaN   2.00   \n",
       "160 49.00   0 271.00           1      0    0     0.00        1  female    NaN   \n",
       "23  59.00   1 239.00           0      1    0      NaN        0    male   1.00   \n",
       "57  60.00   0    NaN           2      0    1     0.00        1  female   2.00   \n",
       "206 65.00   0 177.00           0      0    0     0.40        1    male   2.00   \n",
       "\n",
       "     thal  trestbps  \n",
       "214     2       140  \n",
       "160     2       134  \n",
       "23      3       110  \n",
       "57      2       120  \n",
       "206     3       120  "
      ]
     },
     "execution_count": 23,
     "metadata": {},
     "output_type": "execute_result"
    }
   ],
   "source": [
    "# TEST TRANSFORM METHOD\n",
    "fewer_cols_train_X_df = col_adderdropper.transform(train_X_df)\n",
    "assert set(fewer_cols_train_X_df.columns) == \\\n",
    "                                {'age', 'ca', 'chol', 'cp_reduced', 'exang', 'fbs', 'oldpeak', 'restecg', 'sex', 'slope', 'thal', 'trestbps'}\n",
    "                                \n",
    "assert np.all(fewer_cols_train_X_df['cp_reduced'].value_counts() == \\\n",
    "              pd.Series([94, 55, 29, 15], \n",
    "                        [0, 2, 1, -1]))\n",
    "fewer_cols_train_X_df.head()"
   ]
  },
  {
   "cell_type": "markdown",
   "metadata": {
    "Collapsed": "false",
    "id": "k0Y6VOjvlVG-"
   },
   "source": [
    "Đến đây, ta sẽ phải rút ra danh sách các cột dạng số (numerical) và các cột không phải dạng số (categorical). Các bước tiền xử lý tiếp theo như sau:\n",
    "- Với các cột dạng số, ta sẽ điền giá trị thiếu bằng giá trị mean của cột <font color=gray>(Dùng `SimpleImputer` trong Sklearn)</font> vì ta không biết được cột nào sẽ bị thiếu giá trị khi dự đoán với các véc-tơ input mới. \n",
    "- Với các cột không phải dạng số và không có thứ tự:\n",
    "    - Ta sẽ điền giá trị thiếu bằng giá trị mode (giá trị xuất hiện nhiều nhất) của cột <font color=gray>(Dùng `SimpleImputer` trong Sklearn)</font> vì ta không biết được cột nào sẽ bị thiếu giá trị khi dự đoán với các véc-tơ input mới.\n",
    "    - Sau đó, ta sẽ chuyển sang dạng số bằng phương pháp one-hot encoding <font color=gray>(Dùng `OneHotEncoder` trong Sklearn, để ý tham số `handle_unknown` vì khi dự đoán với các véc-tơ input mới ...)</font>.\n",
    "\n",
    "- Cuối cùng, khi tất cả các cột đã được điền giá trị thiếu và đã có dạng số, ta sẽ tiến hành chuẩn hóa khoảng giá trị bằng cách trừ đi mean và chia cho std của cột để giúp cho các thuật toán tối ưu Gradient Descent, LBFGS, ... hội tụ nhanh hơn <font color=gray>(Dùng `StandardScaler` trong Sklearn)</font>.\n",
    "\n",
    "Tạo ra một pipeline `preprocess_pipeline`, bao gồm: bước thêm cột `Title` và bỏ các cột (đã cài ở class `ColAdderDropper`, với `num_top_cp_values=3`), và tất cả các bước ở trên. \n",
    "Sau khi tạo ra được pipeline này rồi, ta gọi phương thức `fit_transform` với đầu vào là `train_X_df` để tính các giá trị từ tập huấn luyện (ví dụ, `top_cp_values_` ở bước thêm và xóa cột, mean và mode ở bước xử lý giá trị thiếu, mean và std ở bước chuẩn hóa) và đồng thời tiền xử lý `train_X_df`; kết quả trả về sẽ là `train_X_df` sau khi đã tiền xử lý, là một mảng Numpy, đặt tên là `preprocessed_train_X`. <font color=gray>(Tham khảo cách sử dụng pipeline ở [document](https://scikit-learn.org/stable/modules/compose.html#transforming-target-in-regression),ta có thể dùng `Pipeline`/`make_pipeline` và `ColumnTransformer`/`make_column_transformer`.)</font>"
   ]
  },
  {
   "cell_type": "code",
   "execution_count": 24,
   "metadata": {
    "Collapsed": "false",
    "colab": {
     "base_uri": "https://localhost:8080/"
    },
    "deletable": false,
    "id": "As9Dp0wZlVG-",
    "nbgrader": {
     "cell_type": "code",
     "checksum": "e7a1d4ae5e4fa50b60b4998de6be96a1",
     "grade": false,
     "grade_id": "cell-ae75d7dfa7256c7f",
     "locked": false,
     "schema_version": 3,
     "solution": true
    },
    "outputId": "3d19caf1-2bf5-41cf-a65f-acdb16077dbd"
   },
   "outputs": [],
   "source": [
    "# Tự xác định xem cột nào là numerical hoặc categorical (xem xét các cột có số lượng giá trị khác nhau <15 )\n",
    "\n",
    "categorical_cols = ['ca', 'cp_reduced', 'exang', 'fbs', 'restecg', 'sex', 'slope', 'thal']\n",
    "numerics_cols = ['age', 'chol', 'oldpeak', 'trestbps']\n",
    "\n",
    "cat_pl= Pipeline([\n",
    "        ('imputer', SimpleImputer(missing_values=np.NaN, strategy='most_frequent')), # Xử lý missing data bằng cách thay thế most frequent\n",
    "        ('onehot', OneHotEncoder(handle_unknown='ignore', sparse = False)), # Biến đổi giá trị của biến phân loại thành véc tơ OneHot\n",
    "        ('scale', StandardScaler())\n",
    "])\n",
    "\n",
    "num_pl = Pipeline([\n",
    "           ('imputer', SimpleImputer(missing_values=np.NaN, strategy='mean')), # Xử lý missing data bằng cách thay thế mean\n",
    "           ('scale', StandardScaler())\n",
    "])\n",
    "\n",
    "preprocessor = ColumnTransformer([\n",
    "    ('numerics', num_pl,numerics_cols), \n",
    "    ('categorical', cat_pl, categorical_cols) \n",
    "])\n",
    "\n",
    "preprocess_pipeline = Pipeline([\n",
    "    ('coladderdropper', ColAdderDropper(num_top_cp_values=3)),\n",
    "    ('preprocessor', preprocessor)\n",
    "])\n",
    "\n",
    "preprocessed_train_X = preprocess_pipeline.fit_transform(train_X_df)"
   ]
  },
  {
   "cell_type": "code",
   "execution_count": 25,
   "metadata": {
    "Collapsed": "false",
    "colab": {
     "base_uri": "https://localhost:8080/",
     "height": 258
    },
    "deletable": false,
    "editable": false,
    "id": "sJKDf9IqlVG_",
    "nbgrader": {
     "cell_type": "code",
     "checksum": "34cd22a6a9f34822f20f8d3c89115986",
     "grade": true,
     "grade_id": "cell-1cf65ae2cdb14c0c",
     "locked": true,
     "points": 2.5,
     "schema_version": 3,
     "solution": false
    },
    "outputId": "ed876cd7-3e8a-43ab-abc2-72d65f529327"
   },
   "outputs": [
    {
     "data": {
      "text/html": [
       "<style>#sk-1452bfa3-8c19-4d2d-b6e1-d27596bc5b6d {color: black;background-color: white;}#sk-1452bfa3-8c19-4d2d-b6e1-d27596bc5b6d pre{padding: 0;}#sk-1452bfa3-8c19-4d2d-b6e1-d27596bc5b6d div.sk-toggleable {background-color: white;}#sk-1452bfa3-8c19-4d2d-b6e1-d27596bc5b6d label.sk-toggleable__label {cursor: pointer;display: block;width: 100%;margin-bottom: 0;padding: 0.3em;box-sizing: border-box;text-align: center;}#sk-1452bfa3-8c19-4d2d-b6e1-d27596bc5b6d div.sk-toggleable__content {max-height: 0;max-width: 0;overflow: hidden;text-align: left;background-color: #f0f8ff;}#sk-1452bfa3-8c19-4d2d-b6e1-d27596bc5b6d div.sk-toggleable__content pre {margin: 0.2em;color: black;border-radius: 0.25em;background-color: #f0f8ff;}#sk-1452bfa3-8c19-4d2d-b6e1-d27596bc5b6d input.sk-toggleable__control:checked~div.sk-toggleable__content {max-height: 200px;max-width: 100%;overflow: auto;}#sk-1452bfa3-8c19-4d2d-b6e1-d27596bc5b6d div.sk-estimator input.sk-toggleable__control:checked~label.sk-toggleable__label {background-color: #d4ebff;}#sk-1452bfa3-8c19-4d2d-b6e1-d27596bc5b6d div.sk-label input.sk-toggleable__control:checked~label.sk-toggleable__label {background-color: #d4ebff;}#sk-1452bfa3-8c19-4d2d-b6e1-d27596bc5b6d input.sk-hidden--visually {border: 0;clip: rect(1px 1px 1px 1px);clip: rect(1px, 1px, 1px, 1px);height: 1px;margin: -1px;overflow: hidden;padding: 0;position: absolute;width: 1px;}#sk-1452bfa3-8c19-4d2d-b6e1-d27596bc5b6d div.sk-estimator {font-family: monospace;background-color: #f0f8ff;border: 1px dotted black;border-radius: 0.25em;box-sizing: border-box;margin-bottom: 0.5em;}#sk-1452bfa3-8c19-4d2d-b6e1-d27596bc5b6d div.sk-estimator:hover {background-color: #d4ebff;}#sk-1452bfa3-8c19-4d2d-b6e1-d27596bc5b6d div.sk-parallel-item::after {content: \"\";width: 100%;border-bottom: 1px solid gray;flex-grow: 1;}#sk-1452bfa3-8c19-4d2d-b6e1-d27596bc5b6d div.sk-label:hover label.sk-toggleable__label {background-color: #d4ebff;}#sk-1452bfa3-8c19-4d2d-b6e1-d27596bc5b6d div.sk-serial::before {content: \"\";position: absolute;border-left: 1px solid gray;box-sizing: border-box;top: 2em;bottom: 0;left: 50%;}#sk-1452bfa3-8c19-4d2d-b6e1-d27596bc5b6d div.sk-serial {display: flex;flex-direction: column;align-items: center;background-color: white;padding-right: 0.2em;padding-left: 0.2em;}#sk-1452bfa3-8c19-4d2d-b6e1-d27596bc5b6d div.sk-item {z-index: 1;}#sk-1452bfa3-8c19-4d2d-b6e1-d27596bc5b6d div.sk-parallel {display: flex;align-items: stretch;justify-content: center;background-color: white;}#sk-1452bfa3-8c19-4d2d-b6e1-d27596bc5b6d div.sk-parallel::before {content: \"\";position: absolute;border-left: 1px solid gray;box-sizing: border-box;top: 2em;bottom: 0;left: 50%;}#sk-1452bfa3-8c19-4d2d-b6e1-d27596bc5b6d div.sk-parallel-item {display: flex;flex-direction: column;position: relative;background-color: white;}#sk-1452bfa3-8c19-4d2d-b6e1-d27596bc5b6d div.sk-parallel-item:first-child::after {align-self: flex-end;width: 50%;}#sk-1452bfa3-8c19-4d2d-b6e1-d27596bc5b6d div.sk-parallel-item:last-child::after {align-self: flex-start;width: 50%;}#sk-1452bfa3-8c19-4d2d-b6e1-d27596bc5b6d div.sk-parallel-item:only-child::after {width: 0;}#sk-1452bfa3-8c19-4d2d-b6e1-d27596bc5b6d div.sk-dashed-wrapped {border: 1px dashed gray;margin: 0 0.4em 0.5em 0.4em;box-sizing: border-box;padding-bottom: 0.4em;background-color: white;position: relative;}#sk-1452bfa3-8c19-4d2d-b6e1-d27596bc5b6d div.sk-label label {font-family: monospace;font-weight: bold;background-color: white;display: inline-block;line-height: 1.2em;}#sk-1452bfa3-8c19-4d2d-b6e1-d27596bc5b6d div.sk-label-container {position: relative;z-index: 2;text-align: center;}#sk-1452bfa3-8c19-4d2d-b6e1-d27596bc5b6d div.sk-container {display: inline-block;position: relative;}</style><div id=\"sk-1452bfa3-8c19-4d2d-b6e1-d27596bc5b6d\" class\"sk-top-container\"><div class=\"sk-container\"><div class=\"sk-item sk-dashed-wrapped\"><div class=\"sk-label-container\"><div class=\"sk-label sk-toggleable\"><input class=\"sk-toggleable__control sk-hidden--visually\" id=\"1d33952d-4488-4639-9b01-22ad1015f225\" type=\"checkbox\" ><label class=\"sk-toggleable__label\" for=\"1d33952d-4488-4639-9b01-22ad1015f225\">Pipeline</label><div class=\"sk-toggleable__content\"><pre>Pipeline(steps=[('coladderdropper', ColAdderDropper()),\n",
       "                ('preprocessor',\n",
       "                 ColumnTransformer(transformers=[('numerics',\n",
       "                                                  Pipeline(steps=[('imputer',\n",
       "                                                                   SimpleImputer()),\n",
       "                                                                  ('scale',\n",
       "                                                                   StandardScaler())]),\n",
       "                                                  ['age', 'chol', 'oldpeak',\n",
       "                                                   'trestbps']),\n",
       "                                                 ('categorical',\n",
       "                                                  Pipeline(steps=[('imputer',\n",
       "                                                                   SimpleImputer(strategy='most_frequent')),\n",
       "                                                                  ('onehot',\n",
       "                                                                   OneHotEncoder(handle_unknown='ignore',\n",
       "                                                                                 sparse=False)),\n",
       "                                                                  ('scale',\n",
       "                                                                   StandardScaler())]),\n",
       "                                                  ['ca', 'cp_reduced', 'exang',\n",
       "                                                   'fbs', 'restecg', 'sex',\n",
       "                                                   'slope', 'thal'])]))])</pre></div></div></div><div class=\"sk-serial\"><div class=\"sk-item\"><div class=\"sk-estimator sk-toggleable\"><input class=\"sk-toggleable__control sk-hidden--visually\" id=\"defa6490-8f53-470a-9055-0bbf17a48ea8\" type=\"checkbox\" ><label class=\"sk-toggleable__label\" for=\"defa6490-8f53-470a-9055-0bbf17a48ea8\">ColAdderDropper</label><div class=\"sk-toggleable__content\"><pre>ColAdderDropper()</pre></div></div></div><div class=\"sk-item sk-dashed-wrapped\"><div class=\"sk-label-container\"><div class=\"sk-label sk-toggleable\"><input class=\"sk-toggleable__control sk-hidden--visually\" id=\"b252915f-ed6b-41a8-9f91-3c6b90881aa1\" type=\"checkbox\" ><label class=\"sk-toggleable__label\" for=\"b252915f-ed6b-41a8-9f91-3c6b90881aa1\">preprocessor: ColumnTransformer</label><div class=\"sk-toggleable__content\"><pre>ColumnTransformer(transformers=[('numerics',\n",
       "                                 Pipeline(steps=[('imputer', SimpleImputer()),\n",
       "                                                 ('scale', StandardScaler())]),\n",
       "                                 ['age', 'chol', 'oldpeak', 'trestbps']),\n",
       "                                ('categorical',\n",
       "                                 Pipeline(steps=[('imputer',\n",
       "                                                  SimpleImputer(strategy='most_frequent')),\n",
       "                                                 ('onehot',\n",
       "                                                  OneHotEncoder(handle_unknown='ignore',\n",
       "                                                                sparse=False)),\n",
       "                                                 ('scale', StandardScaler())]),\n",
       "                                 ['ca', 'cp_reduced', 'exang', 'fbs', 'restecg',\n",
       "                                  'sex', 'slope', 'thal'])])</pre></div></div></div><div class=\"sk-parallel\"><div class=\"sk-parallel-item\"><div class=\"sk-item\"><div class=\"sk-label-container\"><div class=\"sk-label sk-toggleable\"><input class=\"sk-toggleable__control sk-hidden--visually\" id=\"58ac05ac-86fb-4f72-a589-e1fb64730ca2\" type=\"checkbox\" ><label class=\"sk-toggleable__label\" for=\"58ac05ac-86fb-4f72-a589-e1fb64730ca2\">numerics</label><div class=\"sk-toggleable__content\"><pre>['age', 'chol', 'oldpeak', 'trestbps']</pre></div></div></div><div class=\"sk-serial\"><div class=\"sk-item\"><div class=\"sk-serial\"><div class=\"sk-item\"><div class=\"sk-estimator sk-toggleable\"><input class=\"sk-toggleable__control sk-hidden--visually\" id=\"7124ab6b-4500-4208-98b8-28fd8778c4e5\" type=\"checkbox\" ><label class=\"sk-toggleable__label\" for=\"7124ab6b-4500-4208-98b8-28fd8778c4e5\">SimpleImputer</label><div class=\"sk-toggleable__content\"><pre>SimpleImputer()</pre></div></div></div><div class=\"sk-item\"><div class=\"sk-estimator sk-toggleable\"><input class=\"sk-toggleable__control sk-hidden--visually\" id=\"79266ad0-1c02-4cdd-bd96-6b5cf8f65111\" type=\"checkbox\" ><label class=\"sk-toggleable__label\" for=\"79266ad0-1c02-4cdd-bd96-6b5cf8f65111\">StandardScaler</label><div class=\"sk-toggleable__content\"><pre>StandardScaler()</pre></div></div></div></div></div></div></div></div><div class=\"sk-parallel-item\"><div class=\"sk-item\"><div class=\"sk-label-container\"><div class=\"sk-label sk-toggleable\"><input class=\"sk-toggleable__control sk-hidden--visually\" id=\"f592668c-3fd1-4a2f-9e94-1feb019c52d3\" type=\"checkbox\" ><label class=\"sk-toggleable__label\" for=\"f592668c-3fd1-4a2f-9e94-1feb019c52d3\">categorical</label><div class=\"sk-toggleable__content\"><pre>['ca', 'cp_reduced', 'exang', 'fbs', 'restecg', 'sex', 'slope', 'thal']</pre></div></div></div><div class=\"sk-serial\"><div class=\"sk-item\"><div class=\"sk-serial\"><div class=\"sk-item\"><div class=\"sk-estimator sk-toggleable\"><input class=\"sk-toggleable__control sk-hidden--visually\" id=\"0725c086-cef8-4ab9-8e13-c4190796be3d\" type=\"checkbox\" ><label class=\"sk-toggleable__label\" for=\"0725c086-cef8-4ab9-8e13-c4190796be3d\">SimpleImputer</label><div class=\"sk-toggleable__content\"><pre>SimpleImputer(strategy='most_frequent')</pre></div></div></div><div class=\"sk-item\"><div class=\"sk-estimator sk-toggleable\"><input class=\"sk-toggleable__control sk-hidden--visually\" id=\"cc7457d6-87b6-45c7-85bf-7e7c245ecb81\" type=\"checkbox\" ><label class=\"sk-toggleable__label\" for=\"cc7457d6-87b6-45c7-85bf-7e7c245ecb81\">OneHotEncoder</label><div class=\"sk-toggleable__content\"><pre>OneHotEncoder(handle_unknown='ignore', sparse=False)</pre></div></div></div><div class=\"sk-item\"><div class=\"sk-estimator sk-toggleable\"><input class=\"sk-toggleable__control sk-hidden--visually\" id=\"f055325b-ccc1-4c54-a746-683a29d5cb26\" type=\"checkbox\" ><label class=\"sk-toggleable__label\" for=\"f055325b-ccc1-4c54-a746-683a29d5cb26\">StandardScaler</label><div class=\"sk-toggleable__content\"><pre>StandardScaler()</pre></div></div></div></div></div></div></div></div></div></div></div></div></div></div>"
      ],
      "text/plain": [
       "Pipeline(steps=[('coladderdropper', ColAdderDropper()),\n",
       "                ('preprocessor',\n",
       "                 ColumnTransformer(transformers=[('numerics',\n",
       "                                                  Pipeline(steps=[('imputer',\n",
       "                                                                   SimpleImputer()),\n",
       "                                                                  ('scale',\n",
       "                                                                   StandardScaler())]),\n",
       "                                                  ['age', 'chol', 'oldpeak',\n",
       "                                                   'trestbps']),\n",
       "                                                 ('categorical',\n",
       "                                                  Pipeline(steps=[('imputer',\n",
       "                                                                   SimpleImputer(strategy='most_frequent')),\n",
       "                                                                  ('onehot',\n",
       "                                                                   OneHotEncoder(handle_unknown='ignore',\n",
       "                                                                                 sparse=False)),\n",
       "                                                                  ('scale',\n",
       "                                                                   StandardScaler())]),\n",
       "                                                  ['ca', 'cp_reduced', 'exang',\n",
       "                                                   'fbs', 'restecg', 'sex',\n",
       "                                                   'slope', 'thal'])]))])"
      ]
     },
     "execution_count": 25,
     "metadata": {},
     "output_type": "execute_result"
    }
   ],
   "source": [
    "# TEST\n",
    "assert preprocessed_train_X.shape == (193, 29)\n",
    "row0 = [1.026, 1.924, -0.953, 0.495, 0.832, -0.503, -0.386, -0.269, -0.102, -0.29, -0.974, -0.421, 1.584, 0.672, -0.672,\n",
    "        0.403, -0.403, -0.935, 0.974, -0.145, -0.647, 0.647, -0.234, -0.789, 0.878, -0.072, -0.269, 0.915, -0.789]\n",
    "assert list(preprocessed_train_X[0].round(3)) == row0\n",
    "preprocess_pipeline"
   ]
  },
  {
   "cell_type": "markdown",
   "metadata": {
    "Collapsed": "false",
    "id": "1b07tI86lVG_"
   },
   "source": [
    "## Tiền xử lý (tập validation)"
   ]
  },
  {
   "cell_type": "markdown",
   "metadata": {
    "Collapsed": "false",
    "id": "1Jk5vD1MlVG_"
   },
   "source": [
    "Một khi đã có `preprocess_pipeline` với các giá trị thống kê đã được tính từ tập huấn luyện, ta có thể dễ dàng dùng phương thức `transform` để tiền xử lý cho các véc-tơ input mới trong tập validation và tập test."
   ]
  },
  {
   "cell_type": "code",
   "execution_count": 26,
   "metadata": {
    "Collapsed": "false",
    "deletable": false,
    "id": "3VVrWVhPlVG_",
    "nbgrader": {
     "cell_type": "code",
     "checksum": "986f547abfe534258eb2c41f692c1084",
     "grade": false,
     "grade_id": "cell-5b00ff693785976e",
     "locked": false,
     "schema_version": 3,
     "solution": true
    }
   },
   "outputs": [],
   "source": [
    "# Tiền xử lý cho `val_X_df` và lưu kết quả vào `preprocessed_val_X`\n",
    "preprocessed_val_X = preprocess_pipeline.transform(val_X_df)"
   ]
  },
  {
   "cell_type": "code",
   "execution_count": 27,
   "metadata": {
    "Collapsed": "false",
    "deletable": false,
    "editable": false,
    "id": "un38UlKolVG_",
    "nbgrader": {
     "cell_type": "code",
     "checksum": "11d78d3e447c4f152ba6106fa18ad60f",
     "grade": true,
     "grade_id": "cell-b9c978682fecdf3c",
     "locked": true,
     "points": 0.5,
     "schema_version": 3,
     "solution": false
    }
   },
   "outputs": [],
   "source": [
    "# Test\n",
    "assert preprocessed_val_X.shape == (49, 29)\n",
    "row0 = [-1.534, -0.797, -0.953, -0.72, 0.832, -0.503, -0.386, -0.269, -0.102, -0.29, -0.974, -0.421, 1.584, 0.672, -0.672,\n",
    "        0.403, -0.403, -0.935, 0.974, -0.145, 1.545, -1.545, -0.234, 1.268, -1.139, -0.072, -0.269, 0.915, -0.789]\n",
    "assert list(preprocessed_val_X[0].round(3)) == row0\n"
   ]
  },
  {
   "cell_type": "markdown",
   "metadata": {
    "Collapsed": "false",
    "id": "w0TV4YkvlVHA"
   },
   "source": [
    "Tại sao không nên làm 2 cách sau:\n",
    "- Tiền xử lý tập validation bằng các giá trị thống kê (mean, mode, ...) được tính từ tập validation\n",
    "    * Trong quá trình tiền xử lý, việc điền dữ liệu thiếu hay chuẩn hóa dữ liệu dựa vào mean, std, ... sẽ khác nhau nếu chúng ta thực hiện trên 2 tập dữ liệu khác nhau (`tập train và tập validation`). Các phương pháp này `giúp đưa các giá trị về cùng 1 phân phối / thang đo mà không làm ảnh hưởng tới sự khác biệt giữa chúng, giúp các thuật toán hội tụ nhanh hơn, ...` để khi mô hình dự đoán một dữ liệu mới có thể thấy một mối tương quan tương đối với các tham số mà mô hình đã được học từ tập training (mean, mode, std,...).\n",
    "<br> => Tăng độ chính xác của mô hình.\n",
    "<br> => Việc chúng ta tiền xử lý tập validation bằng các giá trị thống kê (mean, mode, ...) được tính từ tập validation là không có ý nghĩa vì nó không thể hiện sự kết nối với những gì mà mô hình đã được học (dựa vào mean, std, ... của tập train)\n",
    "- Hoặc tiền xử lý tất cả dữ liệu rồi mới tách tập validation\n",
    "    * Trong quá trình tiền xử lý, những đặc điểm, tính chất riêng biệt trong tập validation bị `\"rò rỉ\"` qua tập train qua các giá trị thống kê.\n",
    "<br> => Giống như việc chúng ta sử dụng tập validation để xây dựng mô hình hoặc mô hình chúng ta xây dựng có xu hướng học để tối ưu trên tập validation. \n",
    "<br> Do đó, việc đánh giá mô hình bị giảm độ chính xác, khiến mô hình dễ bị Overfitting (vì tính chất `\"new and unseen\"` của tập validation đã bị vi phạm)."
   ]
  },
  {
   "cell_type": "markdown",
   "metadata": {
    "Collapsed": "false",
    "deletable": false,
    "id": "rda_-rndlVHA",
    "nbgrader": {
     "cell_type": "markdown",
     "checksum": "2a1567a9361126ee5dd2d6371498efda",
     "grade": true,
     "grade_id": "cell-c9f9e4ac63684628",
     "locked": false,
     "points": 1,
     "schema_version": 3,
     "solution": true
    }
   },
   "source": [
    "---"
   ]
  },
  {
   "cell_type": "markdown",
   "metadata": {
    "Collapsed": "false",
    "id": "a6BCMtZElVHA"
   },
   "source": [
    "## Tiền xử lý + mô hình hóa"
   ]
  },
  {
   "cell_type": "markdown",
   "metadata": {
    "id": "HfvgdyEilVHB"
   },
   "source": [
    "### Tìm mô hình tốt nhất"
   ]
  },
  {
   "cell_type": "markdown",
   "metadata": {
    "Collapsed": "false",
    "id": "ni8OJ8h0lVHB"
   },
   "source": [
    "Ta sẽ sử dụng mô hình MLP để phân lớp. Ta tạo ra một pipeline từ đầu đến cuối `full_pipeline` bao gồm: các bước tiền xử lý ở trên + MLP (với các siêu tham số `hidden_layer_sizes=(50), activation='relu', solver='lbfgs', random_state=0, max_iter=10000`). Việc tạo ra một pipeline từ đầu đến cuối như này có các lợi ích sau:\n",
    "- Giúp đơn giản hóa: \n",
    "    - Để huấn luyện từ đầu tới cuối, chỉ cần gọi phương thức `fit` của pipeline này trên tập huấn luyện dạng thô. Lúc này, các \"transformer\" ở các bước tiền xử lý sẽ gọi `fit_transform`, còn \"classifier\" ở cuối sẽ gọi `fit`.\n",
    "    - Với các véc-tơ input ở dạng thô, để dự đoán thì chỉ cần gọi phương thức `predict` của pipeline. Lúc này, các \"transformer\" ở các bước tiền xử lý sẽ gọi `transform`, còn \"classifier\" ở cuối sẽ gọi `predict`.\n",
    "- Giúp tránh tiền xử lý tập validation/kiểm-tra sai cách (như đã nói ở mục \"Tiền xử lý (tập validation)\" ở trên). Để làm sai cũng khó à nha ;-).\n",
    "- Giúp dễ dàng thử nghiệm đồng thời các giá trị của các siêu tham số ở các bước trong pipeline (sẽ làm ở ngay dưới).\n",
    "\n",
    "Sau khi đã có được pipeline từ đầu đến cuối này, ta sẽ thử nghiệm:\n",
    "- Siêu tham số `alpha` (hệ số L2 regularization) của `MLPClassifier` với 5 giá trị khác nhau: từ 0 đến 100.\n",
    "- Siêu tham số `num_top_cp_values` của `ColAdderDropper` (ở bước tiền xử lý) với 5 giá trị khác nhau: 1, 3, 5, 7, 9.\n",
    "\n",
    "Để gán lại giá trị `alpha` và `num_top_cp_values` cho `full_pipeline`, ta sẽ dùng phương thức `set_params`: \n",
    "\n",
    "`full_pipeline.set_params(mlpclassifier__alpha=...)`\n",
    "\n",
    "Lưu ý: Nếu ta tạo pipeline bằng `make_pipeline` thì tên của các bước sẽ được tự động lấy là tên của các class và được viết thường như 2 tên ở trên. Còn nếu ta dùng `Pipeline` và tự đặt tên cho các bước thì tên đó phải được đặt trong phương thức `set_params`.  \n",
    "\n",
    "Như vậy, với mỗi mô hình ta sẽ: huấn luyện trên tập training, tính accuracy score (tỉ lệ dự đoán đúng) trên tập training và tập validation (Dựa vào phương thức `accuracy_score`) rồi `append` độ đo vào 2 list tương ứng là `train_accs` và `val_accs` (Tính accuracy theo đơn vị %). Lưu lại accuracy lớn nhất trên tập validation và giá trị `alpha` và `num_top_cp_values` tương ứng lần lượt vào biến `best_val_acc`, `best_alpha`, `best_num_top_cp_values`."
   ]
  },
  {
   "cell_type": "code",
   "execution_count": 28,
   "metadata": {
    "Collapsed": "false",
    "colab": {
     "base_uri": "https://localhost:8080/",
     "height": 35
    },
    "deletable": false,
    "id": "8axdeNeslVHB",
    "nbgrader": {
     "cell_type": "code",
     "checksum": "0662cf28420d8aab58040eaa80f76ed2",
     "grade": false,
     "grade_id": "cell-fdd12a79fb590313",
     "locked": false,
     "schema_version": 3,
     "solution": true,
     "task": false
    },
    "outputId": "3fa77a2f-0f1b-4b46-9522-005386b816d7",
    "scrolled": true,
    "tags": []
   },
   "outputs": [
    {
     "data": {
      "text/plain": [
       "'Finish!'"
      ]
     },
     "execution_count": 28,
     "metadata": {},
     "output_type": "execute_result"
    }
   ],
   "source": [
    "# Tạo full_pipeline\n",
    "full_pipeline = Pipeline ([\n",
    "    ('preprocessing', preprocess_pipeline),\n",
    "    ('mlpclassifer', MLPClassifier(hidden_layer_sizes=(50), activation='relu', solver='lbfgs', random_state=0, max_iter=10000))\n",
    "])\n",
    "\n",
    "# Thử nghiệm với các giá trị khác nhau của các siêu tham số (toàn bộ quá trình có thể mất từ 2-3 phút)\n",
    "# và chọn ra các giá trị tốt nhất\n",
    "train_accs = []\n",
    "val_accs = []\n",
    "alphas = [0,0.01,0.1, 1, 10, 100]\n",
    "num_top_cp_values_s = [1, 3, 5, 7,9]\n",
    "best_val_acc = 0\n",
    "best_alpha = None\n",
    "best_num_top_cp_values = None\n",
    "for alpha in alphas:\n",
    "    for num_top_cp_values in num_top_cp_values_s:        \n",
    "        full_pipeline.set_params(mlpclassifer__alpha=alpha,preprocessing__coladderdropper__num_top_cp_values = num_top_cp_values)\n",
    "        model = full_pipeline.fit(train_X_df, train_y_sr)  \n",
    "        \n",
    "        \n",
    "        y_train = model.predict(train_X_df)\n",
    "        train_acc = accuracy_score(y_train, train_y_sr)*100\n",
    "        \n",
    "        y_pred = model.predict(val_X_df)\n",
    "        val_acc = accuracy_score(y_pred, val_y_sr)*100\n",
    "        \n",
    "        train_accs.append(train_acc)\n",
    "        val_accs.append(val_acc)\n",
    "        \n",
    "        if val_acc > best_val_acc:\n",
    "            best_val_acc = val_acc\n",
    "            best_alpha = alpha\n",
    "            best_num_top_cp_values = num_top_cp_values\n",
    "            \n",
    "'Finish!'"
   ]
  },
  {
   "cell_type": "code",
   "execution_count": 29,
   "metadata": {
    "colab": {
     "base_uri": "https://localhost:8080/",
     "height": 317
    },
    "id": "BAzogpDulVHC",
    "outputId": "dca91a52-7f70-4558-fcc4-c7c15ee053d8"
   },
   "outputs": [
    {
     "data": {
      "text/html": [
       "<style>#sk-aa83fcb2-7f1c-4bd5-963f-da032b56ed65 {color: black;background-color: white;}#sk-aa83fcb2-7f1c-4bd5-963f-da032b56ed65 pre{padding: 0;}#sk-aa83fcb2-7f1c-4bd5-963f-da032b56ed65 div.sk-toggleable {background-color: white;}#sk-aa83fcb2-7f1c-4bd5-963f-da032b56ed65 label.sk-toggleable__label {cursor: pointer;display: block;width: 100%;margin-bottom: 0;padding: 0.3em;box-sizing: border-box;text-align: center;}#sk-aa83fcb2-7f1c-4bd5-963f-da032b56ed65 div.sk-toggleable__content {max-height: 0;max-width: 0;overflow: hidden;text-align: left;background-color: #f0f8ff;}#sk-aa83fcb2-7f1c-4bd5-963f-da032b56ed65 div.sk-toggleable__content pre {margin: 0.2em;color: black;border-radius: 0.25em;background-color: #f0f8ff;}#sk-aa83fcb2-7f1c-4bd5-963f-da032b56ed65 input.sk-toggleable__control:checked~div.sk-toggleable__content {max-height: 200px;max-width: 100%;overflow: auto;}#sk-aa83fcb2-7f1c-4bd5-963f-da032b56ed65 div.sk-estimator input.sk-toggleable__control:checked~label.sk-toggleable__label {background-color: #d4ebff;}#sk-aa83fcb2-7f1c-4bd5-963f-da032b56ed65 div.sk-label input.sk-toggleable__control:checked~label.sk-toggleable__label {background-color: #d4ebff;}#sk-aa83fcb2-7f1c-4bd5-963f-da032b56ed65 input.sk-hidden--visually {border: 0;clip: rect(1px 1px 1px 1px);clip: rect(1px, 1px, 1px, 1px);height: 1px;margin: -1px;overflow: hidden;padding: 0;position: absolute;width: 1px;}#sk-aa83fcb2-7f1c-4bd5-963f-da032b56ed65 div.sk-estimator {font-family: monospace;background-color: #f0f8ff;border: 1px dotted black;border-radius: 0.25em;box-sizing: border-box;margin-bottom: 0.5em;}#sk-aa83fcb2-7f1c-4bd5-963f-da032b56ed65 div.sk-estimator:hover {background-color: #d4ebff;}#sk-aa83fcb2-7f1c-4bd5-963f-da032b56ed65 div.sk-parallel-item::after {content: \"\";width: 100%;border-bottom: 1px solid gray;flex-grow: 1;}#sk-aa83fcb2-7f1c-4bd5-963f-da032b56ed65 div.sk-label:hover label.sk-toggleable__label {background-color: #d4ebff;}#sk-aa83fcb2-7f1c-4bd5-963f-da032b56ed65 div.sk-serial::before {content: \"\";position: absolute;border-left: 1px solid gray;box-sizing: border-box;top: 2em;bottom: 0;left: 50%;}#sk-aa83fcb2-7f1c-4bd5-963f-da032b56ed65 div.sk-serial {display: flex;flex-direction: column;align-items: center;background-color: white;padding-right: 0.2em;padding-left: 0.2em;}#sk-aa83fcb2-7f1c-4bd5-963f-da032b56ed65 div.sk-item {z-index: 1;}#sk-aa83fcb2-7f1c-4bd5-963f-da032b56ed65 div.sk-parallel {display: flex;align-items: stretch;justify-content: center;background-color: white;}#sk-aa83fcb2-7f1c-4bd5-963f-da032b56ed65 div.sk-parallel::before {content: \"\";position: absolute;border-left: 1px solid gray;box-sizing: border-box;top: 2em;bottom: 0;left: 50%;}#sk-aa83fcb2-7f1c-4bd5-963f-da032b56ed65 div.sk-parallel-item {display: flex;flex-direction: column;position: relative;background-color: white;}#sk-aa83fcb2-7f1c-4bd5-963f-da032b56ed65 div.sk-parallel-item:first-child::after {align-self: flex-end;width: 50%;}#sk-aa83fcb2-7f1c-4bd5-963f-da032b56ed65 div.sk-parallel-item:last-child::after {align-self: flex-start;width: 50%;}#sk-aa83fcb2-7f1c-4bd5-963f-da032b56ed65 div.sk-parallel-item:only-child::after {width: 0;}#sk-aa83fcb2-7f1c-4bd5-963f-da032b56ed65 div.sk-dashed-wrapped {border: 1px dashed gray;margin: 0 0.4em 0.5em 0.4em;box-sizing: border-box;padding-bottom: 0.4em;background-color: white;position: relative;}#sk-aa83fcb2-7f1c-4bd5-963f-da032b56ed65 div.sk-label label {font-family: monospace;font-weight: bold;background-color: white;display: inline-block;line-height: 1.2em;}#sk-aa83fcb2-7f1c-4bd5-963f-da032b56ed65 div.sk-label-container {position: relative;z-index: 2;text-align: center;}#sk-aa83fcb2-7f1c-4bd5-963f-da032b56ed65 div.sk-container {display: inline-block;position: relative;}</style><div id=\"sk-aa83fcb2-7f1c-4bd5-963f-da032b56ed65\" class\"sk-top-container\"><div class=\"sk-container\"><div class=\"sk-item sk-dashed-wrapped\"><div class=\"sk-label-container\"><div class=\"sk-label sk-toggleable\"><input class=\"sk-toggleable__control sk-hidden--visually\" id=\"17c2eeb3-6afb-4a47-8ad0-8132ee5bbe2f\" type=\"checkbox\" ><label class=\"sk-toggleable__label\" for=\"17c2eeb3-6afb-4a47-8ad0-8132ee5bbe2f\">Pipeline</label><div class=\"sk-toggleable__content\"><pre>Pipeline(steps=[('preprocessing',\n",
       "                 Pipeline(steps=[('coladderdropper',\n",
       "                                  ColAdderDropper(num_top_cp_values=9)),\n",
       "                                 ('preprocessor',\n",
       "                                  ColumnTransformer(transformers=[('numerics',\n",
       "                                                                   Pipeline(steps=[('imputer',\n",
       "                                                                                    SimpleImputer()),\n",
       "                                                                                   ('scale',\n",
       "                                                                                    StandardScaler())]),\n",
       "                                                                   ['age',\n",
       "                                                                    'chol',\n",
       "                                                                    'oldpeak',\n",
       "                                                                    'trestbps']),\n",
       "                                                                  ('categorical',\n",
       "                                                                   Pipeline(steps=[('imputer',\n",
       "                                                                                    SimpleImputer(strategy='most_frequent')),\n",
       "                                                                                   ('onehot',\n",
       "                                                                                    OneHotEncoder(handle_unknown='ignore',\n",
       "                                                                                                  sparse=False)),\n",
       "                                                                                   ('scale',\n",
       "                                                                                    StandardScaler())]),\n",
       "                                                                   ['ca',\n",
       "                                                                    'cp_reduced',\n",
       "                                                                    'exang',\n",
       "                                                                    'fbs',\n",
       "                                                                    'restecg',\n",
       "                                                                    'sex',\n",
       "                                                                    'slope',\n",
       "                                                                    'thal'])]))])),\n",
       "                ('mlpclassifer',\n",
       "                 MLPClassifier(alpha=100, hidden_layer_sizes=50, max_iter=10000,\n",
       "                               random_state=0, solver='lbfgs'))])</pre></div></div></div><div class=\"sk-serial\"><div class=\"sk-item\"><div class=\"sk-label-container\"><div class=\"sk-label sk-toggleable\"><input class=\"sk-toggleable__control sk-hidden--visually\" id=\"3c091632-9948-47e2-adf8-ad6635978387\" type=\"checkbox\" ><label class=\"sk-toggleable__label\" for=\"3c091632-9948-47e2-adf8-ad6635978387\">preprocessing: Pipeline</label><div class=\"sk-toggleable__content\"><pre>Pipeline(steps=[('coladderdropper', ColAdderDropper(num_top_cp_values=9)),\n",
       "                ('preprocessor',\n",
       "                 ColumnTransformer(transformers=[('numerics',\n",
       "                                                  Pipeline(steps=[('imputer',\n",
       "                                                                   SimpleImputer()),\n",
       "                                                                  ('scale',\n",
       "                                                                   StandardScaler())]),\n",
       "                                                  ['age', 'chol', 'oldpeak',\n",
       "                                                   'trestbps']),\n",
       "                                                 ('categorical',\n",
       "                                                  Pipeline(steps=[('imputer',\n",
       "                                                                   SimpleImputer(strategy='most_frequent')),\n",
       "                                                                  ('onehot',\n",
       "                                                                   OneHotEncoder(handle_unknown='ignore',\n",
       "                                                                                 sparse=False)),\n",
       "                                                                  ('scale',\n",
       "                                                                   StandardScaler())]),\n",
       "                                                  ['ca', 'cp_reduced', 'exang',\n",
       "                                                   'fbs', 'restecg', 'sex',\n",
       "                                                   'slope', 'thal'])]))])</pre></div></div></div><div class=\"sk-serial\"><div class=\"sk-item\"><div class=\"sk-estimator sk-toggleable\"><input class=\"sk-toggleable__control sk-hidden--visually\" id=\"aff5a231-89f7-45f7-92a2-4273369f0193\" type=\"checkbox\" ><label class=\"sk-toggleable__label\" for=\"aff5a231-89f7-45f7-92a2-4273369f0193\">ColAdderDropper</label><div class=\"sk-toggleable__content\"><pre>ColAdderDropper(num_top_cp_values=9)</pre></div></div></div><div class=\"sk-item sk-dashed-wrapped\"><div class=\"sk-label-container\"><div class=\"sk-label sk-toggleable\"><input class=\"sk-toggleable__control sk-hidden--visually\" id=\"4095fd7d-a254-4ce1-8968-c8b29796f41f\" type=\"checkbox\" ><label class=\"sk-toggleable__label\" for=\"4095fd7d-a254-4ce1-8968-c8b29796f41f\">preprocessor: ColumnTransformer</label><div class=\"sk-toggleable__content\"><pre>ColumnTransformer(transformers=[('numerics',\n",
       "                                 Pipeline(steps=[('imputer', SimpleImputer()),\n",
       "                                                 ('scale', StandardScaler())]),\n",
       "                                 ['age', 'chol', 'oldpeak', 'trestbps']),\n",
       "                                ('categorical',\n",
       "                                 Pipeline(steps=[('imputer',\n",
       "                                                  SimpleImputer(strategy='most_frequent')),\n",
       "                                                 ('onehot',\n",
       "                                                  OneHotEncoder(handle_unknown='ignore',\n",
       "                                                                sparse=False)),\n",
       "                                                 ('scale', StandardScaler())]),\n",
       "                                 ['ca', 'cp_reduced', 'exang', 'fbs', 'restecg',\n",
       "                                  'sex', 'slope', 'thal'])])</pre></div></div></div><div class=\"sk-parallel\"><div class=\"sk-parallel-item\"><div class=\"sk-item\"><div class=\"sk-label-container\"><div class=\"sk-label sk-toggleable\"><input class=\"sk-toggleable__control sk-hidden--visually\" id=\"e2c3406d-997c-4f7c-8547-1fb2683caa5b\" type=\"checkbox\" ><label class=\"sk-toggleable__label\" for=\"e2c3406d-997c-4f7c-8547-1fb2683caa5b\">numerics</label><div class=\"sk-toggleable__content\"><pre>['age', 'chol', 'oldpeak', 'trestbps']</pre></div></div></div><div class=\"sk-serial\"><div class=\"sk-item\"><div class=\"sk-serial\"><div class=\"sk-item\"><div class=\"sk-estimator sk-toggleable\"><input class=\"sk-toggleable__control sk-hidden--visually\" id=\"8548434b-8051-4237-befc-f8dc9ae39d9d\" type=\"checkbox\" ><label class=\"sk-toggleable__label\" for=\"8548434b-8051-4237-befc-f8dc9ae39d9d\">SimpleImputer</label><div class=\"sk-toggleable__content\"><pre>SimpleImputer()</pre></div></div></div><div class=\"sk-item\"><div class=\"sk-estimator sk-toggleable\"><input class=\"sk-toggleable__control sk-hidden--visually\" id=\"ad06185d-4cc8-463b-a209-a15509c2460b\" type=\"checkbox\" ><label class=\"sk-toggleable__label\" for=\"ad06185d-4cc8-463b-a209-a15509c2460b\">StandardScaler</label><div class=\"sk-toggleable__content\"><pre>StandardScaler()</pre></div></div></div></div></div></div></div></div><div class=\"sk-parallel-item\"><div class=\"sk-item\"><div class=\"sk-label-container\"><div class=\"sk-label sk-toggleable\"><input class=\"sk-toggleable__control sk-hidden--visually\" id=\"5be6d1a7-8c88-4ac1-82fc-5012f9066c7e\" type=\"checkbox\" ><label class=\"sk-toggleable__label\" for=\"5be6d1a7-8c88-4ac1-82fc-5012f9066c7e\">categorical</label><div class=\"sk-toggleable__content\"><pre>['ca', 'cp_reduced', 'exang', 'fbs', 'restecg', 'sex', 'slope', 'thal']</pre></div></div></div><div class=\"sk-serial\"><div class=\"sk-item\"><div class=\"sk-serial\"><div class=\"sk-item\"><div class=\"sk-estimator sk-toggleable\"><input class=\"sk-toggleable__control sk-hidden--visually\" id=\"8b91eda6-b205-4a28-a5c7-3186d24d1364\" type=\"checkbox\" ><label class=\"sk-toggleable__label\" for=\"8b91eda6-b205-4a28-a5c7-3186d24d1364\">SimpleImputer</label><div class=\"sk-toggleable__content\"><pre>SimpleImputer(strategy='most_frequent')</pre></div></div></div><div class=\"sk-item\"><div class=\"sk-estimator sk-toggleable\"><input class=\"sk-toggleable__control sk-hidden--visually\" id=\"a3ed1855-9442-4acb-9013-1dde8c0fd371\" type=\"checkbox\" ><label class=\"sk-toggleable__label\" for=\"a3ed1855-9442-4acb-9013-1dde8c0fd371\">OneHotEncoder</label><div class=\"sk-toggleable__content\"><pre>OneHotEncoder(handle_unknown='ignore', sparse=False)</pre></div></div></div><div class=\"sk-item\"><div class=\"sk-estimator sk-toggleable\"><input class=\"sk-toggleable__control sk-hidden--visually\" id=\"92faba70-44dd-40c2-914e-4eafe4648f41\" type=\"checkbox\" ><label class=\"sk-toggleable__label\" for=\"92faba70-44dd-40c2-914e-4eafe4648f41\">StandardScaler</label><div class=\"sk-toggleable__content\"><pre>StandardScaler()</pre></div></div></div></div></div></div></div></div></div></div></div></div><div class=\"sk-item\"><div class=\"sk-estimator sk-toggleable\"><input class=\"sk-toggleable__control sk-hidden--visually\" id=\"478195e1-27aa-423f-a19e-7f18c676b96b\" type=\"checkbox\" ><label class=\"sk-toggleable__label\" for=\"478195e1-27aa-423f-a19e-7f18c676b96b\">MLPClassifier</label><div class=\"sk-toggleable__content\"><pre>MLPClassifier(alpha=100, hidden_layer_sizes=50, max_iter=10000, random_state=0,\n",
       "              solver='lbfgs')</pre></div></div></div></div></div></div></div>"
      ],
      "text/plain": [
       "Pipeline(steps=[('preprocessing',\n",
       "                 Pipeline(steps=[('coladderdropper',\n",
       "                                  ColAdderDropper(num_top_cp_values=9)),\n",
       "                                 ('preprocessor',\n",
       "                                  ColumnTransformer(transformers=[('numerics',\n",
       "                                                                   Pipeline(steps=[('imputer',\n",
       "                                                                                    SimpleImputer()),\n",
       "                                                                                   ('scale',\n",
       "                                                                                    StandardScaler())]),\n",
       "                                                                   ['age',\n",
       "                                                                    'chol',\n",
       "                                                                    'oldpeak',\n",
       "                                                                    'trestbps']),\n",
       "                                                                  ('categorical',\n",
       "                                                                   Pipeline(steps=[('imputer',\n",
       "                                                                                    SimpleImputer(strategy='most_frequent')),\n",
       "                                                                                   ('onehot',\n",
       "                                                                                    OneHotEncoder(handle_unknown='ignore',\n",
       "                                                                                                  sparse=False)),\n",
       "                                                                                   ('scale',\n",
       "                                                                                    StandardScaler())]),\n",
       "                                                                   ['ca',\n",
       "                                                                    'cp_reduced',\n",
       "                                                                    'exang',\n",
       "                                                                    'fbs',\n",
       "                                                                    'restecg',\n",
       "                                                                    'sex',\n",
       "                                                                    'slope',\n",
       "                                                                    'thal'])]))])),\n",
       "                ('mlpclassifer',\n",
       "                 MLPClassifier(alpha=100, hidden_layer_sizes=50, max_iter=10000,\n",
       "                               random_state=0, solver='lbfgs'))])"
      ]
     },
     "execution_count": 29,
     "metadata": {},
     "output_type": "execute_result"
    }
   ],
   "source": [
    "# TEST\n",
    "full_pipeline"
   ]
  },
  {
   "cell_type": "code",
   "execution_count": 30,
   "metadata": {
    "deletable": false,
    "editable": false,
    "id": "XoKMAgEulVHC",
    "nbgrader": {
     "cell_type": "code",
     "checksum": "f33688c1c8f4b1a71567209f5872b5e7",
     "grade": true,
     "grade_id": "cell-0b98eab69b5f1ff7",
     "locked": true,
     "points": 1.5,
     "schema_version": 3,
     "solution": false,
     "task": false
    }
   },
   "outputs": [],
   "source": [
    "# TEST\n",
    "assert round(best_val_acc, 2) == 85.71\n",
    "assert best_alpha == 1\n",
    "assert best_num_top_cp_values == 3"
   ]
  },
  {
   "cell_type": "code",
   "execution_count": 31,
   "metadata": {
    "colab": {
     "base_uri": "https://localhost:8080/",
     "height": 351
    },
    "id": "IFTBKkW5lVHC",
    "outputId": "035d35d6-db3e-417f-c464-92919cb2b727"
   },
   "outputs": [
    {
     "data": {
      "image/png": "[encoded data removed]",
      "text/plain": [
       "<Figure size 720x360 with 2 Axes>"
      ]
     },
     "metadata": {
      "needs_background": "light"
     },
     "output_type": "display_data"
    }
   ],
   "source": [
    "# Trực quan hóa kết quả\n",
    "train_accs_df = pd.DataFrame(data=np.array(train_accs).reshape(len(alphas), -1),\n",
    "                             index=alphas, columns=num_top_cp_values_s)\n",
    "val_accs_df = pd.DataFrame(\n",
    "    data=np.array(val_accs).reshape(len(alphas), -1), \n",
    "    index=alphas, columns=num_top_cp_values_s)\n",
    "min_err = min(min(train_accs), min(val_accs))\n",
    "max_err = max(max(train_accs), max(val_accs))\n",
    "plt.figure(figsize=(10, 5))\n",
    "plt.subplot(1, 2, 1)\n",
    "sns.heatmap(train_accs_df, vmin=min_err, vmax=max_err, square=True, \n",
    "            annot=True, cbar=False, fmt='.2f', cmap='Reds')\n",
    "plt.title('train accuracies'); plt.xlabel('num_top_cp_values'); plt.ylabel('alpha')\n",
    "plt.subplot(1, 2, 2)\n",
    "sns.heatmap(val_accs_df, vmin=min_err, vmax=max_err, square=True, \n",
    "            annot=True, cbar=False, fmt='.2f', cmap='Reds')\n",
    "plt.title('validation accuracies'); plt.xlabel('num_top_cp_values'); plt.ylabel('alpha');"
   ]
  },
  {
   "cell_type": "markdown",
   "metadata": {
    "Collapsed": "false",
    "id": "wKoaXVyTlVHC"
   },
   "source": [
    "Nhận xét về ảnh hưởng của siêu tham số `alpha`: \n",
    "- Nếu `alpha` thay đổi thì độ chính xác trên tập huấn luyện và tập validation sẽ thay đổi như thế nào? Tại sao ta lại kỳ vọng như vậy?\n",
    "    * Việc điều chỉnh siêu tham số `alpha` tới 1 giới hạn nào đó sẽ giúp giảm phương sai (variance) cho mô hình mà không làm tăng độ lệch (bias) một cách đáng kể.\n",
    "    * Hiện tại, mô hình có vẻ bị Overfitting một chút do tập dataset khá nhỏ, còn mô hình thì khá phức tạp nên khi ta tăng `alpha` lên thì ta kì vọng độ chính xác trên tập training sẽ giảm nhưng độ chính xác trên tập validation sẽ tăng. \n",
    "    * Do ta sử dụng phương pháp L2 Regulization để thêm \"phạt\" (penalty) vào objective function khiến mô hình tự điều chỉnh bộ trọng số (weights) nhỏ hơn sau khi mô hình bị phạt với lỗi lớn => Giúp mô hình bớt phức tạp hơn.\n",
    "\n",
    "- Kết quả ở trên có giống như kỳ vọng của ta hay không? Nếu không thì tại sao lại như vậy?\n",
    "    * Kết quả trên gần giống như kỳ vọng. Vì nhìn chung thì khi `alpha` tăng lên thì độ chính xác trên tập validation cũng tăng nhưng nó còn tùy thuộc vào sự kết hợp với siêu tham số `num_top_cp_values` để có thể tìm được một mô hình chuẩn nhất.\n",
    "    * Tuy nhiên, việc điều chỉnh siêu tham số `alpha` chỉ nên trong 1 ngưỡng giới hạn nào đó vì nếu `alpha` quá cao sẽ lấn át hàm lỗi, khiến mô hình có xu hướng bỏ qua các đặc tính quan trọng của dữ liệu, dẫn đến độ lệch lớn => Underfitting."
   ]
  },
  {
   "cell_type": "markdown",
   "metadata": {
    "deletable": false,
    "id": "rrIpJ6D6lVHC",
    "nbgrader": {
     "cell_type": "markdown",
     "checksum": "9e0471605e1a0872e36754fa0f485aa1",
     "grade": true,
     "grade_id": "cell-4debcfe69b8e605b",
     "locked": false,
     "points": 1,
     "schema_version": 3,
     "solution": true,
     "task": false
    }
   },
   "source": [
    "---"
   ]
  },
  {
   "cell_type": "markdown",
   "metadata": {
    "Collapsed": "false",
    "id": "7bYIi4s8lVHD"
   },
   "source": [
    "Nhận xét về ảnh hưởng của siêu tham số `num_top_cp_values`: \n",
    "- Nếu `num_top_cp_values` thay đổi thì độ chính xác trên tập huấn luyện và tập validation sẽ thay đổi như thế nào? Tại sao ta lại kỳ vọng như vậy?\n",
    "    * Do cột `cp` có quá nhiều giá trị có thể dễ dẫn đến Overfitting nên ta kì vọng khi siêu tham số `num_top_cp_values` nhỏ thì độ chính xác trên tập training có thể giảm một chút, nhưng độ chính xác trên tập validation có thể cải thiện hơn với trước đó.\n",
    "    \n",
    "- Kết quả ở trên có giống như kỳ vọng của bạn không? Nếu không thì tại sao lại như vậy?\n",
    "    * Kết quả trên gần giống với kỳ vọng. Vì nhìn chung thì khi giảm siêu tham số `num_top_cp_values` nhỏ thì độ chính xác trên tập validation cũng cao hơn nhưng nó còn tùy thuộc vào sự kết hợp với `alpha` để có thể tìm được một mô hình chuẩn nhất.\n",
    "    * Tuy nhiên, việc điều chỉnh siêu tham số `num_top_cp_values` chỉ nên trong 1 ngưỡng giới hạn nào đó vì nếu `num_top_cp_values` quá thấp sẽ loại bỏ các đặc tính quan trọng của dữ liệu, dẫn đến mô hình dự đoán không chính xác. => Underfitting."
   ]
  },
  {
   "cell_type": "markdown",
   "metadata": {
    "deletable": false,
    "id": "TSylFa2NlVHD",
    "nbgrader": {
     "cell_type": "markdown",
     "checksum": "49982bae0349935c9ca94046bf830735",
     "grade": true,
     "grade_id": "cell-94737f293bd3c2a8",
     "locked": false,
     "points": 1,
     "schema_version": 3,
     "solution": true,
     "task": false
    }
   },
   "source": [
    "---"
   ]
  },
  {
   "cell_type": "markdown",
   "metadata": {
    "id": "F9-G4HQRlVHD"
   },
   "source": [
    "Cuối cùng, ta huấn luyện lại `full_pipeline` trên `X_df` và `y_sr` (tập huấn luyện + tập validation) với `best_alpha` và `best_num_top_titles` tìm được ở trên để ra được mô hình cụ thể cuối cùng."
   ]
  },
  {
   "cell_type": "code",
   "execution_count": 32,
   "metadata": {
    "colab": {
     "base_uri": "https://localhost:8080/",
     "height": 317
    },
    "deletable": false,
    "id": "_H4FSj9FlVHD",
    "nbgrader": {
     "cell_type": "code",
     "checksum": "e771c0641435719860146ab39be71ef8",
     "grade": true,
     "grade_id": "cell-34157b0f98b9d3f5",
     "locked": false,
     "points": 0.5,
     "schema_version": 3,
     "solution": true,
     "task": false
    },
    "outputId": "94073c48-5ba8-4a02-ff84-99f2dfbfb892"
   },
   "outputs": [],
   "source": [
    "full_pipeline.set_params(mlpclassifer__alpha=best_alpha,preprocessing__coladderdropper__num_top_cp_values = best_num_top_cp_values)\n",
    "best_model = full_pipeline.fit(X_df, y_sr)  "
   ]
  },
  {
   "cell_type": "markdown",
   "metadata": {
    "Collapsed": "false",
    "id": "s7un-crLlVHD"
   },
   "source": [
    "### Đánh giá mô hình tìm được \n",
    "Ta sẽ dùng mô hình cụ thể cuối cùng ở trên để dự đoán với các input trong tập test (file \"lab03_test.csv\"). Lưu giá trị dự đoán (1 - có bệnh, và 0 - không) vào `my_preds.csv`."
   ]
  },
  {
   "cell_type": "code",
   "execution_count": 33,
   "metadata": {
    "id": "5jk7q3AaygtG"
   },
   "outputs": [],
   "source": [
    "test_X_df = pd.read_csv(\"/data-preprocessing-and-modeling/data/lab03_test.csv\")"
   ]
  },
  {
   "cell_type": "code",
   "execution_count": 34,
   "metadata": {
    "id": "W6lbh5jeywFl"
   },
   "outputs": [],
   "source": [
    "test_X_df.to_csv(\"/data-preprocessing-and-modeling/data/lab03_test.csv\",index=False)"
   ]
  },
  {
   "cell_type": "code",
   "execution_count": 35,
   "metadata": {
    "Collapsed": "false",
    "deletable": false,
    "id": "YXC5LEqNlVHE",
    "nbgrader": {
     "cell_type": "code",
     "checksum": "226b0f0ebb7e79c2866d02164cec9e2d",
     "grade": false,
     "grade_id": "cell-e184d7a3003ba334",
     "locked": false,
     "schema_version": 3,
     "solution": true,
     "task": false
    }
   },
   "outputs": [],
   "source": [
    "y_pred = best_model.predict(test_X_df)\n",
    "pred_df = pd.DataFrame(y_pred, columns = ['target'])\n",
    "pred_df.to_csv('/data-preprocessing-and-modeling/data/my_preds.csv', index = False)"
   ]
  },
  {
   "cell_type": "code",
   "execution_count": 36,
   "metadata": {
    "deletable": false,
    "id": "1d6trk_elVHE",
    "nbgrader": {
     "cell_type": "code",
     "checksum": "a1ff8fb8e8c561377393942df69da26c",
     "grade": true,
     "grade_id": "cell-dbdc218117501513",
     "locked": true,
     "points": 0.75,
     "schema_version": 3,
     "solution": false,
     "task": false
    }
   },
   "outputs": [],
   "source": [
    "# TEST\n",
    "my_preds_df = pd.read_csv('/data-preprocessing-and-modeling/data/my_preds.csv')\n",
    "assert round(my_preds_df['target'].mean(), 3) == 0.574\n",
    "assert np.all(my_preds_df.iloc[:5].values.reshape(-1) == \\\n",
    "                                     np.array([0, 0, 1, 0, 0]))"
   ]
  },
  {
   "cell_type": "markdown",
   "metadata": {
    "id": "oy9yh-uEiiXr"
   },
   "source": [
    "### Thí nghiệm với các mô hình phân lớp khác\n",
    "\n",
    "Trong phần này, ta có thể thử các mô hình phân lớp khác với MLP ở phần trên để tối ưu độ chính xác trên tập validation (hoặc test) nhất có thể. \n",
    "\n",
    "Ta có thể thử trên subset của các features để tìm ra bộ features tối ưu nhất. Hoặc ta có thể thử **tinh chỉnh** các siêu tham số của mô hình MLP ở trên để tìm ra bộ tham số tối ưu hơn (chẳng hạn như `hidden_layer`, `activation`, `solver`, `learning_rate`). \n"
   ]
  },
  {
   "cell_type": "code",
   "execution_count": 37,
   "metadata": {},
   "outputs": [
    {
     "name": "stdout",
     "output_type": "stream",
     "text": [
      "Best parameters: {'mlpclassifer__activation': 'logistic', 'mlpclassifer__alpha': 0.001, 'mlpclassifer__hidden_layer_sizes': (50, 50, 50), 'mlpclassifer__learning_rate': 'invscaling', 'mlpclassifer__solver': 'adam', 'preprocessing__coladderdropper__num_top_cp_values': 1}\n"
     ]
    },
    {
     "data": {
      "text/html": [
       "<div>\n",
       "<style scoped>\n",
       "    .dataframe tbody tr th:only-of-type {\n",
       "        vertical-align: middle;\n",
       "    }\n",
       "\n",
       "    .dataframe tbody tr th {\n",
       "        vertical-align: top;\n",
       "    }\n",
       "\n",
       "    .dataframe thead th {\n",
       "        text-align: right;\n",
       "    }\n",
       "</style>\n",
       "<table border=\"1\" class=\"dataframe\">\n",
       "  <thead>\n",
       "    <tr style=\"text-align: right;\">\n",
       "      <th></th>\n",
       "      <th>mean_fit_time</th>\n",
       "      <th>std_fit_time</th>\n",
       "      <th>mean_score_time</th>\n",
       "      <th>std_score_time</th>\n",
       "      <th>param_mlpclassifer__activation</th>\n",
       "      <th>param_mlpclassifer__alpha</th>\n",
       "      <th>param_mlpclassifer__hidden_layer_sizes</th>\n",
       "      <th>param_mlpclassifer__learning_rate</th>\n",
       "      <th>param_mlpclassifer__solver</th>\n",
       "      <th>param_preprocessing__coladderdropper__num_top_cp_values</th>\n",
       "      <th>params</th>\n",
       "      <th>split0_test_score</th>\n",
       "      <th>mean_test_score</th>\n",
       "      <th>std_test_score</th>\n",
       "      <th>rank_test_score</th>\n",
       "    </tr>\n",
       "  </thead>\n",
       "  <tbody>\n",
       "    <tr>\n",
       "      <th>0</th>\n",
       "      <td>0.06</td>\n",
       "      <td>0.00</td>\n",
       "      <td>0.01</td>\n",
       "      <td>0.00</td>\n",
       "      <td>relu</td>\n",
       "      <td>0.01</td>\n",
       "      <td>(5, 10, 15)</td>\n",
       "      <td>invscaling</td>\n",
       "      <td>sgd</td>\n",
       "      <td>1</td>\n",
       "      <td>{'mlpclassifer__activation': 'relu', 'mlpclass...</td>\n",
       "      <td>0.55</td>\n",
       "      <td>0.55</td>\n",
       "      <td>0.00</td>\n",
       "      <td>398</td>\n",
       "    </tr>\n",
       "    <tr>\n",
       "      <th>1</th>\n",
       "      <td>0.03</td>\n",
       "      <td>0.00</td>\n",
       "      <td>0.01</td>\n",
       "      <td>0.00</td>\n",
       "      <td>relu</td>\n",
       "      <td>0.01</td>\n",
       "      <td>(5, 10, 15)</td>\n",
       "      <td>invscaling</td>\n",
       "      <td>sgd</td>\n",
       "      <td>3</td>\n",
       "      <td>{'mlpclassifer__activation': 'relu', 'mlpclass...</td>\n",
       "      <td>0.41</td>\n",
       "      <td>0.41</td>\n",
       "      <td>0.00</td>\n",
       "      <td>561</td>\n",
       "    </tr>\n",
       "    <tr>\n",
       "      <th>2</th>\n",
       "      <td>0.03</td>\n",
       "      <td>0.00</td>\n",
       "      <td>0.01</td>\n",
       "      <td>0.00</td>\n",
       "      <td>relu</td>\n",
       "      <td>0.01</td>\n",
       "      <td>(5, 10, 15)</td>\n",
       "      <td>invscaling</td>\n",
       "      <td>sgd</td>\n",
       "      <td>5</td>\n",
       "      <td>{'mlpclassifer__activation': 'relu', 'mlpclass...</td>\n",
       "      <td>0.45</td>\n",
       "      <td>0.45</td>\n",
       "      <td>0.00</td>\n",
       "      <td>521</td>\n",
       "    </tr>\n",
       "    <tr>\n",
       "      <th>3</th>\n",
       "      <td>0.79</td>\n",
       "      <td>0.00</td>\n",
       "      <td>0.01</td>\n",
       "      <td>0.00</td>\n",
       "      <td>relu</td>\n",
       "      <td>0.01</td>\n",
       "      <td>(5, 10, 15)</td>\n",
       "      <td>invscaling</td>\n",
       "      <td>adam</td>\n",
       "      <td>1</td>\n",
       "      <td>{'mlpclassifer__activation': 'relu', 'mlpclass...</td>\n",
       "      <td>0.86</td>\n",
       "      <td>0.86</td>\n",
       "      <td>0.00</td>\n",
       "      <td>7</td>\n",
       "    </tr>\n",
       "    <tr>\n",
       "      <th>4</th>\n",
       "      <td>0.80</td>\n",
       "      <td>0.00</td>\n",
       "      <td>0.01</td>\n",
       "      <td>0.00</td>\n",
       "      <td>relu</td>\n",
       "      <td>0.01</td>\n",
       "      <td>(5, 10, 15)</td>\n",
       "      <td>invscaling</td>\n",
       "      <td>adam</td>\n",
       "      <td>3</td>\n",
       "      <td>{'mlpclassifer__activation': 'relu', 'mlpclass...</td>\n",
       "      <td>0.76</td>\n",
       "      <td>0.76</td>\n",
       "      <td>0.00</td>\n",
       "      <td>230</td>\n",
       "    </tr>\n",
       "    <tr>\n",
       "      <th>...</th>\n",
       "      <td>...</td>\n",
       "      <td>...</td>\n",
       "      <td>...</td>\n",
       "      <td>...</td>\n",
       "      <td>...</td>\n",
       "      <td>...</td>\n",
       "      <td>...</td>\n",
       "      <td>...</td>\n",
       "      <td>...</td>\n",
       "      <td>...</td>\n",
       "      <td>...</td>\n",
       "      <td>...</td>\n",
       "      <td>...</td>\n",
       "      <td>...</td>\n",
       "      <td>...</td>\n",
       "    </tr>\n",
       "    <tr>\n",
       "      <th>571</th>\n",
       "      <td>3.59</td>\n",
       "      <td>0.00</td>\n",
       "      <td>0.01</td>\n",
       "      <td>0.00</td>\n",
       "      <td>tanh</td>\n",
       "      <td>1</td>\n",
       "      <td>(50, 50, 50)</td>\n",
       "      <td>adaptive</td>\n",
       "      <td>sgd</td>\n",
       "      <td>3</td>\n",
       "      <td>{'mlpclassifer__activation': 'tanh', 'mlpclass...</td>\n",
       "      <td>0.76</td>\n",
       "      <td>0.76</td>\n",
       "      <td>0.00</td>\n",
       "      <td>230</td>\n",
       "    </tr>\n",
       "    <tr>\n",
       "      <th>572</th>\n",
       "      <td>8.27</td>\n",
       "      <td>0.00</td>\n",
       "      <td>0.01</td>\n",
       "      <td>0.00</td>\n",
       "      <td>tanh</td>\n",
       "      <td>1</td>\n",
       "      <td>(50, 50, 50)</td>\n",
       "      <td>adaptive</td>\n",
       "      <td>sgd</td>\n",
       "      <td>5</td>\n",
       "      <td>{'mlpclassifer__activation': 'tanh', 'mlpclass...</td>\n",
       "      <td>0.76</td>\n",
       "      <td>0.76</td>\n",
       "      <td>0.00</td>\n",
       "      <td>230</td>\n",
       "    </tr>\n",
       "    <tr>\n",
       "      <th>573</th>\n",
       "      <td>2.66</td>\n",
       "      <td>0.00</td>\n",
       "      <td>0.01</td>\n",
       "      <td>0.00</td>\n",
       "      <td>tanh</td>\n",
       "      <td>1</td>\n",
       "      <td>(50, 50, 50)</td>\n",
       "      <td>adaptive</td>\n",
       "      <td>adam</td>\n",
       "      <td>1</td>\n",
       "      <td>{'mlpclassifer__activation': 'tanh', 'mlpclass...</td>\n",
       "      <td>0.69</td>\n",
       "      <td>0.69</td>\n",
       "      <td>0.00</td>\n",
       "      <td>370</td>\n",
       "    </tr>\n",
       "    <tr>\n",
       "      <th>574</th>\n",
       "      <td>2.76</td>\n",
       "      <td>0.00</td>\n",
       "      <td>0.01</td>\n",
       "      <td>0.00</td>\n",
       "      <td>tanh</td>\n",
       "      <td>1</td>\n",
       "      <td>(50, 50, 50)</td>\n",
       "      <td>adaptive</td>\n",
       "      <td>adam</td>\n",
       "      <td>3</td>\n",
       "      <td>{'mlpclassifer__activation': 'tanh', 'mlpclass...</td>\n",
       "      <td>0.80</td>\n",
       "      <td>0.80</td>\n",
       "      <td>0.00</td>\n",
       "      <td>83</td>\n",
       "    </tr>\n",
       "    <tr>\n",
       "      <th>575</th>\n",
       "      <td>3.17</td>\n",
       "      <td>0.00</td>\n",
       "      <td>0.01</td>\n",
       "      <td>0.00</td>\n",
       "      <td>tanh</td>\n",
       "      <td>1</td>\n",
       "      <td>(50, 50, 50)</td>\n",
       "      <td>adaptive</td>\n",
       "      <td>adam</td>\n",
       "      <td>5</td>\n",
       "      <td>{'mlpclassifer__activation': 'tanh', 'mlpclass...</td>\n",
       "      <td>0.76</td>\n",
       "      <td>0.76</td>\n",
       "      <td>0.00</td>\n",
       "      <td>230</td>\n",
       "    </tr>\n",
       "  </tbody>\n",
       "</table>\n",
       "<p>576 rows × 15 columns</p>\n",
       "</div>"
      ],
      "text/plain": [
       "     mean_fit_time  std_fit_time  mean_score_time  std_score_time  \\\n",
       "0             0.06          0.00             0.01            0.00   \n",
       "1             0.03          0.00             0.01            0.00   \n",
       "2             0.03          0.00             0.01            0.00   \n",
       "3             0.79          0.00             0.01            0.00   \n",
       "4             0.80          0.00             0.01            0.00   \n",
       "..             ...           ...              ...             ...   \n",
       "571           3.59          0.00             0.01            0.00   \n",
       "572           8.27          0.00             0.01            0.00   \n",
       "573           2.66          0.00             0.01            0.00   \n",
       "574           2.76          0.00             0.01            0.00   \n",
       "575           3.17          0.00             0.01            0.00   \n",
       "\n",
       "    param_mlpclassifer__activation param_mlpclassifer__alpha  \\\n",
       "0                             relu                      0.01   \n",
       "1                             relu                      0.01   \n",
       "2                             relu                      0.01   \n",
       "3                             relu                      0.01   \n",
       "4                             relu                      0.01   \n",
       "..                             ...                       ...   \n",
       "571                           tanh                         1   \n",
       "572                           tanh                         1   \n",
       "573                           tanh                         1   \n",
       "574                           tanh                         1   \n",
       "575                           tanh                         1   \n",
       "\n",
       "    param_mlpclassifer__hidden_layer_sizes param_mlpclassifer__learning_rate  \\\n",
       "0                              (5, 10, 15)                        invscaling   \n",
       "1                              (5, 10, 15)                        invscaling   \n",
       "2                              (5, 10, 15)                        invscaling   \n",
       "3                              (5, 10, 15)                        invscaling   \n",
       "4                              (5, 10, 15)                        invscaling   \n",
       "..                                     ...                               ...   \n",
       "571                           (50, 50, 50)                          adaptive   \n",
       "572                           (50, 50, 50)                          adaptive   \n",
       "573                           (50, 50, 50)                          adaptive   \n",
       "574                           (50, 50, 50)                          adaptive   \n",
       "575                           (50, 50, 50)                          adaptive   \n",
       "\n",
       "    param_mlpclassifer__solver  \\\n",
       "0                          sgd   \n",
       "1                          sgd   \n",
       "2                          sgd   \n",
       "3                         adam   \n",
       "4                         adam   \n",
       "..                         ...   \n",
       "571                        sgd   \n",
       "572                        sgd   \n",
       "573                       adam   \n",
       "574                       adam   \n",
       "575                       adam   \n",
       "\n",
       "    param_preprocessing__coladderdropper__num_top_cp_values  \\\n",
       "0                                                    1        \n",
       "1                                                    3        \n",
       "2                                                    5        \n",
       "3                                                    1        \n",
       "4                                                    3        \n",
       "..                                                 ...        \n",
       "571                                                  3        \n",
       "572                                                  5        \n",
       "573                                                  1        \n",
       "574                                                  3        \n",
       "575                                                  5        \n",
       "\n",
       "                                                params  split0_test_score  \\\n",
       "0    {'mlpclassifer__activation': 'relu', 'mlpclass...               0.55   \n",
       "1    {'mlpclassifer__activation': 'relu', 'mlpclass...               0.41   \n",
       "2    {'mlpclassifer__activation': 'relu', 'mlpclass...               0.45   \n",
       "3    {'mlpclassifer__activation': 'relu', 'mlpclass...               0.86   \n",
       "4    {'mlpclassifer__activation': 'relu', 'mlpclass...               0.76   \n",
       "..                                                 ...                ...   \n",
       "571  {'mlpclassifer__activation': 'tanh', 'mlpclass...               0.76   \n",
       "572  {'mlpclassifer__activation': 'tanh', 'mlpclass...               0.76   \n",
       "573  {'mlpclassifer__activation': 'tanh', 'mlpclass...               0.69   \n",
       "574  {'mlpclassifer__activation': 'tanh', 'mlpclass...               0.80   \n",
       "575  {'mlpclassifer__activation': 'tanh', 'mlpclass...               0.76   \n",
       "\n",
       "     mean_test_score  std_test_score  rank_test_score  \n",
       "0               0.55            0.00              398  \n",
       "1               0.41            0.00              561  \n",
       "2               0.45            0.00              521  \n",
       "3               0.86            0.00                7  \n",
       "4               0.76            0.00              230  \n",
       "..               ...             ...              ...  \n",
       "571             0.76            0.00              230  \n",
       "572             0.76            0.00              230  \n",
       "573             0.69            0.00              370  \n",
       "574             0.80            0.00               83  \n",
       "575             0.76            0.00              230  \n",
       "\n",
       "[576 rows x 15 columns]"
      ]
     },
     "execution_count": 37,
     "metadata": {},
     "output_type": "execute_result"
    }
   ],
   "source": [
    "# Ta dùng GridSearch CV, PredefinedSplit để chọn ra mô hình tối ưu nhất khi tự động truyền vào các siêu tham số của mô hình\n",
    "\n",
    "# Tạo ra 1 list trong đó dữ liệu train được gán = -1, validation gán = 0\n",
    "split_index = [-1 if x in train_X_df.index else 0 for x in X_df.index]\n",
    "\n",
    "# Dùng list vừa tạo làm PredefinedSplit\n",
    "pds = PredefinedSplit(test_fold = split_index)\n",
    "\n",
    "# Dùng PredefinedSplit trong GridSearchCV\n",
    "MLP_pipeline = Pipeline ([\n",
    "    ('preprocessing', preprocess_pipeline),\n",
    "    ('mlpclassifer', MLPClassifier(random_state=0, max_iter=10000, shuffle = True))\n",
    "])\n",
    "\n",
    "# Tạo các tham số của mô hình để chọn mô hình 1 cách tự động dùng GridSearch CV\n",
    "parameters = {\n",
    "  'preprocessing__coladderdropper__num_top_cp_values':[1, 3, 5],\n",
    "  'mlpclassifer__alpha': [0.01, 0.001, 0.1, 1],\n",
    "  'mlpclassifer__activation': ['relu', 'identity', 'logistic', 'tanh'],\n",
    "  'mlpclassifer__hidden_layer_sizes': [(5, 10, 15), (50, 50, 50)],\n",
    "  'mlpclassifer__solver': ['sgd', 'adam'],\n",
    "  'mlpclassifer__learning_rate': ['invscaling', 'constant', 'adaptive']\n",
    "  }\n",
    "\n",
    "model_selection = GridSearchCV(MLP_pipeline,\n",
    "                   cv=pds,\n",
    "                   param_grid=parameters)\n",
    "\n",
    "# Fit\n",
    "model_selection.fit(X_df, y_sr)\n",
    "\n",
    "print(f\"Best parameters: {model_selection.best_params_}\")\n",
    "result = pd.DataFrame(model_selection.cv_results_)\n",
    "result "
   ]
  },
  {
   "cell_type": "code",
   "execution_count": 38,
   "metadata": {},
   "outputs": [
    {
     "name": "stdout",
     "output_type": "stream",
     "text": [
      "Train accuracy: 96.37305699481865\n",
      "Validation accuracy: 91.83673469387756\n"
     ]
    }
   ],
   "source": [
    "# Mô hình tốt nhất sau khi chọn = GridSearch CV\n",
    "my_pipeline = Pipeline ([\n",
    "    ('preprocessing', preprocess_pipeline),\n",
    "    ('mlpclassifer', MLPClassifier(hidden_layer_sizes=(50, 50, 50), activation='logistic', random_state=0,solver='adam', alpha = 0.001, max_iter=10000, learning_rate = 'invscaling', shuffle = True))\n",
    "])\n",
    "\n",
    "my_pipeline.set_params(preprocessing__coladderdropper__num_top_cp_values = 1)\n",
    "\n",
    "my_model = my_pipeline.fit(train_X_df, train_y_sr)  \n",
    "y_train = my_model.predict(train_X_df)\n",
    "train_acc = accuracy_score(y_train, train_y_sr)*100\n",
    "        \n",
    "y_pred = my_model.predict(val_X_df)\n",
    "val_acc = accuracy_score(y_pred, val_y_sr)*100        \n",
    "        \n",
    "        \n",
    "print(f\"Train accuracy: {train_acc}\")\n",
    "print(f\"Validation accuracy: {val_acc}\")"
   ]
  },
  {
   "cell_type": "markdown",
   "metadata": {},
   "source": [
    "### Tham khảo\n",
    "* [When scale the data, why the train dataset use 'fit' and 'transform', but the test dataset only use 'transform'? - (stackoverflow.com)](https://stackoverflow.com/questions/43675665/when-scale-the-data-why-the-train-dataset-use-fit-and-transform-but-the-te)"
   ]
  }
 ],
 "metadata": {
  "colab": {
   "collapsed_sections": [],
   "name": "Lab03 - Implemented",
   "provenance": []
  },
  "kernelspec": {
   "display_name": "Python 3",
   "language": "python",
   "name": "python3"
  },
  "language_info": {
   "codemirror_mode": {
    "name": "ipython",
    "version": 3
   },
   "file_extension": ".py",
   "mimetype": "text/x-python",
   "name": "python",
   "nbconvert_exporter": "python",
   "pygments_lexer": "ipython3",
   "version": "3.9.1"
  },
  "toc": {
   "base_numbering": 1,
   "nav_menu": {
    "height": "153px",
    "width": "252px"
   },
   "number_sections": false,
   "sideBar": true,
   "skip_h1_title": false,
   "title_cell": "Table of Contents",
   "title_sidebar": "Contents",
   "toc_cell": false,
   "toc_position": {
    "height": "calc(100% - 180px)",
    "left": "10px",
    "top": "150px",
    "width": "176px"
   },
   "toc_section_display": "block",
   "toc_window_display": true
  },
  "toc-autonumbering": true
 },
 "nbformat": 4,
 "nbformat_minor": 4
}
